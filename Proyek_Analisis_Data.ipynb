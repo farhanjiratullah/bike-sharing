{
 "cells": [
  {
   "cell_type": "markdown",
   "metadata": {
    "id": "H9wADwK78DCz"
   },
   "source": [
    "# Proyek Analisis Data: [Input Nama Dataset]\n",
    "- **Nama:** Farhan Jiratullah\n",
    "- **Email:** farhanjiratullah794@gmail.com\n",
    "- **ID Dicoding:** farhanjtl"
   ]
  },
  {
   "cell_type": "markdown",
   "metadata": {
    "id": "eE0raob58DC0"
   },
   "source": [
    "## Menentukan Pertanyaan Bisnis"
   ]
  },
  {
   "cell_type": "markdown",
   "metadata": {
    "id": "GmQeQ5YF8DC0"
   },
   "source": [
    "- Bagaimana pola penggunaan sepeda berdasarkan musim?\n",
    "- Seberapa besar pengaruh cuaca terhadap jumlah penyewaan sepeda?\n",
    "- Pada jam berapa penyewaan sepeda paling tinggi dan paling rendah dalam sehari?"
   ]
  },
  {
   "cell_type": "markdown",
   "metadata": {
    "id": "H-z4QGlO8DC1"
   },
   "source": [
    "## Import Semua Packages/Library yang Digunakan"
   ]
  },
  {
   "cell_type": "code",
   "execution_count": 1,
   "metadata": {
    "id": "FVYwaObI8DC1"
   },
   "outputs": [],
   "source": [
    "import pandas as pd \n",
    "import numpy as np\n",
    "\n",
    "import matplotlib.pyplot as plt  \n",
    "import seaborn as sns  "
   ]
  },
  {
   "cell_type": "markdown",
   "metadata": {
    "id": "h_Sh51Xy8DC1"
   },
   "source": [
    "## Data Wrangling"
   ]
  },
  {
   "cell_type": "markdown",
   "metadata": {
    "id": "sXU2GBYu8DC1"
   },
   "source": [
    "### Gathering Data"
   ]
  },
  {
   "cell_type": "code",
   "execution_count": 2,
   "metadata": {
    "id": "zjCBk1BI8DC1"
   },
   "outputs": [
    {
     "name": "stdout",
     "output_type": "stream",
     "text": [
      "Preview dataset harian:\n"
     ]
    },
    {
     "data": {
      "text/html": [
       "<div>\n",
       "<style scoped>\n",
       "    .dataframe tbody tr th:only-of-type {\n",
       "        vertical-align: middle;\n",
       "    }\n",
       "\n",
       "    .dataframe tbody tr th {\n",
       "        vertical-align: top;\n",
       "    }\n",
       "\n",
       "    .dataframe thead th {\n",
       "        text-align: right;\n",
       "    }\n",
       "</style>\n",
       "<table border=\"1\" class=\"dataframe\">\n",
       "  <thead>\n",
       "    <tr style=\"text-align: right;\">\n",
       "      <th></th>\n",
       "      <th>instant</th>\n",
       "      <th>dteday</th>\n",
       "      <th>season</th>\n",
       "      <th>yr</th>\n",
       "      <th>mnth</th>\n",
       "      <th>holiday</th>\n",
       "      <th>weekday</th>\n",
       "      <th>workingday</th>\n",
       "      <th>weathersit</th>\n",
       "      <th>temp</th>\n",
       "      <th>atemp</th>\n",
       "      <th>hum</th>\n",
       "      <th>windspeed</th>\n",
       "      <th>casual</th>\n",
       "      <th>registered</th>\n",
       "      <th>cnt</th>\n",
       "    </tr>\n",
       "  </thead>\n",
       "  <tbody>\n",
       "    <tr>\n",
       "      <th>0</th>\n",
       "      <td>1</td>\n",
       "      <td>2011-01-01</td>\n",
       "      <td>1</td>\n",
       "      <td>0</td>\n",
       "      <td>1</td>\n",
       "      <td>0</td>\n",
       "      <td>6</td>\n",
       "      <td>0</td>\n",
       "      <td>2</td>\n",
       "      <td>0.344167</td>\n",
       "      <td>0.363625</td>\n",
       "      <td>0.805833</td>\n",
       "      <td>0.160446</td>\n",
       "      <td>331</td>\n",
       "      <td>654</td>\n",
       "      <td>985</td>\n",
       "    </tr>\n",
       "    <tr>\n",
       "      <th>1</th>\n",
       "      <td>2</td>\n",
       "      <td>2011-01-02</td>\n",
       "      <td>1</td>\n",
       "      <td>0</td>\n",
       "      <td>1</td>\n",
       "      <td>0</td>\n",
       "      <td>0</td>\n",
       "      <td>0</td>\n",
       "      <td>2</td>\n",
       "      <td>0.363478</td>\n",
       "      <td>0.353739</td>\n",
       "      <td>0.696087</td>\n",
       "      <td>0.248539</td>\n",
       "      <td>131</td>\n",
       "      <td>670</td>\n",
       "      <td>801</td>\n",
       "    </tr>\n",
       "    <tr>\n",
       "      <th>2</th>\n",
       "      <td>3</td>\n",
       "      <td>2011-01-03</td>\n",
       "      <td>1</td>\n",
       "      <td>0</td>\n",
       "      <td>1</td>\n",
       "      <td>0</td>\n",
       "      <td>1</td>\n",
       "      <td>1</td>\n",
       "      <td>1</td>\n",
       "      <td>0.196364</td>\n",
       "      <td>0.189405</td>\n",
       "      <td>0.437273</td>\n",
       "      <td>0.248309</td>\n",
       "      <td>120</td>\n",
       "      <td>1229</td>\n",
       "      <td>1349</td>\n",
       "    </tr>\n",
       "    <tr>\n",
       "      <th>3</th>\n",
       "      <td>4</td>\n",
       "      <td>2011-01-04</td>\n",
       "      <td>1</td>\n",
       "      <td>0</td>\n",
       "      <td>1</td>\n",
       "      <td>0</td>\n",
       "      <td>2</td>\n",
       "      <td>1</td>\n",
       "      <td>1</td>\n",
       "      <td>0.200000</td>\n",
       "      <td>0.212122</td>\n",
       "      <td>0.590435</td>\n",
       "      <td>0.160296</td>\n",
       "      <td>108</td>\n",
       "      <td>1454</td>\n",
       "      <td>1562</td>\n",
       "    </tr>\n",
       "    <tr>\n",
       "      <th>4</th>\n",
       "      <td>5</td>\n",
       "      <td>2011-01-05</td>\n",
       "      <td>1</td>\n",
       "      <td>0</td>\n",
       "      <td>1</td>\n",
       "      <td>0</td>\n",
       "      <td>3</td>\n",
       "      <td>1</td>\n",
       "      <td>1</td>\n",
       "      <td>0.226957</td>\n",
       "      <td>0.229270</td>\n",
       "      <td>0.436957</td>\n",
       "      <td>0.186900</td>\n",
       "      <td>82</td>\n",
       "      <td>1518</td>\n",
       "      <td>1600</td>\n",
       "    </tr>\n",
       "  </tbody>\n",
       "</table>\n",
       "</div>"
      ],
      "text/plain": [
       "   instant      dteday  season  yr  mnth  holiday  weekday  workingday  \\\n",
       "0        1  2011-01-01       1   0     1        0        6           0   \n",
       "1        2  2011-01-02       1   0     1        0        0           0   \n",
       "2        3  2011-01-03       1   0     1        0        1           1   \n",
       "3        4  2011-01-04       1   0     1        0        2           1   \n",
       "4        5  2011-01-05       1   0     1        0        3           1   \n",
       "\n",
       "   weathersit      temp     atemp       hum  windspeed  casual  registered  \\\n",
       "0           2  0.344167  0.363625  0.805833   0.160446     331         654   \n",
       "1           2  0.363478  0.353739  0.696087   0.248539     131         670   \n",
       "2           1  0.196364  0.189405  0.437273   0.248309     120        1229   \n",
       "3           1  0.200000  0.212122  0.590435   0.160296     108        1454   \n",
       "4           1  0.226957  0.229270  0.436957   0.186900      82        1518   \n",
       "\n",
       "    cnt  \n",
       "0   985  \n",
       "1   801  \n",
       "2  1349  \n",
       "3  1562  \n",
       "4  1600  "
      ]
     },
     "metadata": {},
     "output_type": "display_data"
    },
    {
     "name": "stdout",
     "output_type": "stream",
     "text": [
      "\n",
      "Preview dataset per jam:\n"
     ]
    },
    {
     "data": {
      "text/html": [
       "<div>\n",
       "<style scoped>\n",
       "    .dataframe tbody tr th:only-of-type {\n",
       "        vertical-align: middle;\n",
       "    }\n",
       "\n",
       "    .dataframe tbody tr th {\n",
       "        vertical-align: top;\n",
       "    }\n",
       "\n",
       "    .dataframe thead th {\n",
       "        text-align: right;\n",
       "    }\n",
       "</style>\n",
       "<table border=\"1\" class=\"dataframe\">\n",
       "  <thead>\n",
       "    <tr style=\"text-align: right;\">\n",
       "      <th></th>\n",
       "      <th>instant</th>\n",
       "      <th>dteday</th>\n",
       "      <th>season</th>\n",
       "      <th>yr</th>\n",
       "      <th>mnth</th>\n",
       "      <th>hr</th>\n",
       "      <th>holiday</th>\n",
       "      <th>weekday</th>\n",
       "      <th>workingday</th>\n",
       "      <th>weathersit</th>\n",
       "      <th>temp</th>\n",
       "      <th>atemp</th>\n",
       "      <th>hum</th>\n",
       "      <th>windspeed</th>\n",
       "      <th>casual</th>\n",
       "      <th>registered</th>\n",
       "      <th>cnt</th>\n",
       "    </tr>\n",
       "  </thead>\n",
       "  <tbody>\n",
       "    <tr>\n",
       "      <th>0</th>\n",
       "      <td>1</td>\n",
       "      <td>2011-01-01</td>\n",
       "      <td>1</td>\n",
       "      <td>0</td>\n",
       "      <td>1</td>\n",
       "      <td>0</td>\n",
       "      <td>0</td>\n",
       "      <td>6</td>\n",
       "      <td>0</td>\n",
       "      <td>1</td>\n",
       "      <td>0.24</td>\n",
       "      <td>0.2879</td>\n",
       "      <td>0.81</td>\n",
       "      <td>0.0</td>\n",
       "      <td>3</td>\n",
       "      <td>13</td>\n",
       "      <td>16</td>\n",
       "    </tr>\n",
       "    <tr>\n",
       "      <th>1</th>\n",
       "      <td>2</td>\n",
       "      <td>2011-01-01</td>\n",
       "      <td>1</td>\n",
       "      <td>0</td>\n",
       "      <td>1</td>\n",
       "      <td>1</td>\n",
       "      <td>0</td>\n",
       "      <td>6</td>\n",
       "      <td>0</td>\n",
       "      <td>1</td>\n",
       "      <td>0.22</td>\n",
       "      <td>0.2727</td>\n",
       "      <td>0.80</td>\n",
       "      <td>0.0</td>\n",
       "      <td>8</td>\n",
       "      <td>32</td>\n",
       "      <td>40</td>\n",
       "    </tr>\n",
       "    <tr>\n",
       "      <th>2</th>\n",
       "      <td>3</td>\n",
       "      <td>2011-01-01</td>\n",
       "      <td>1</td>\n",
       "      <td>0</td>\n",
       "      <td>1</td>\n",
       "      <td>2</td>\n",
       "      <td>0</td>\n",
       "      <td>6</td>\n",
       "      <td>0</td>\n",
       "      <td>1</td>\n",
       "      <td>0.22</td>\n",
       "      <td>0.2727</td>\n",
       "      <td>0.80</td>\n",
       "      <td>0.0</td>\n",
       "      <td>5</td>\n",
       "      <td>27</td>\n",
       "      <td>32</td>\n",
       "    </tr>\n",
       "    <tr>\n",
       "      <th>3</th>\n",
       "      <td>4</td>\n",
       "      <td>2011-01-01</td>\n",
       "      <td>1</td>\n",
       "      <td>0</td>\n",
       "      <td>1</td>\n",
       "      <td>3</td>\n",
       "      <td>0</td>\n",
       "      <td>6</td>\n",
       "      <td>0</td>\n",
       "      <td>1</td>\n",
       "      <td>0.24</td>\n",
       "      <td>0.2879</td>\n",
       "      <td>0.75</td>\n",
       "      <td>0.0</td>\n",
       "      <td>3</td>\n",
       "      <td>10</td>\n",
       "      <td>13</td>\n",
       "    </tr>\n",
       "    <tr>\n",
       "      <th>4</th>\n",
       "      <td>5</td>\n",
       "      <td>2011-01-01</td>\n",
       "      <td>1</td>\n",
       "      <td>0</td>\n",
       "      <td>1</td>\n",
       "      <td>4</td>\n",
       "      <td>0</td>\n",
       "      <td>6</td>\n",
       "      <td>0</td>\n",
       "      <td>1</td>\n",
       "      <td>0.24</td>\n",
       "      <td>0.2879</td>\n",
       "      <td>0.75</td>\n",
       "      <td>0.0</td>\n",
       "      <td>0</td>\n",
       "      <td>1</td>\n",
       "      <td>1</td>\n",
       "    </tr>\n",
       "  </tbody>\n",
       "</table>\n",
       "</div>"
      ],
      "text/plain": [
       "   instant      dteday  season  yr  mnth  hr  holiday  weekday  workingday  \\\n",
       "0        1  2011-01-01       1   0     1   0        0        6           0   \n",
       "1        2  2011-01-01       1   0     1   1        0        6           0   \n",
       "2        3  2011-01-01       1   0     1   2        0        6           0   \n",
       "3        4  2011-01-01       1   0     1   3        0        6           0   \n",
       "4        5  2011-01-01       1   0     1   4        0        6           0   \n",
       "\n",
       "   weathersit  temp   atemp   hum  windspeed  casual  registered  cnt  \n",
       "0           1  0.24  0.2879  0.81        0.0       3          13   16  \n",
       "1           1  0.22  0.2727  0.80        0.0       8          32   40  \n",
       "2           1  0.22  0.2727  0.80        0.0       5          27   32  \n",
       "3           1  0.24  0.2879  0.75        0.0       3          10   13  \n",
       "4           1  0.24  0.2879  0.75        0.0       0           1    1  "
      ]
     },
     "metadata": {},
     "output_type": "display_data"
    }
   ],
   "source": [
    "df_day = pd.read_csv('data/day.csv')    # Data harian\n",
    "df_hour = pd.read_csv('data/hour.csv')  # Data per jam\n",
    "\n",
    "# Tampilkan beberapa baris pertama\n",
    "print(\"Preview dataset harian:\")\n",
    "display(df_day.head())\n",
    "\n",
    "print(\"\\nPreview dataset per jam:\")\n",
    "display(df_hour.head())"
   ]
  },
  {
   "cell_type": "markdown",
   "metadata": {
    "id": "MMi6xGaDkbCi"
   },
   "source": [
    "## 1️⃣ Informasi Umum Dataset\n",
    "Dataset ini terdiri dari dua file utama:  \n",
    "- **day.csv**: Berisi data agregat harian tentang penyewaan sepeda.  \n",
    "- **hour.csv**: Berisi data agregat per jam tentang penyewaan sepeda.  \n",
    "\n",
    "Kedua dataset mencatat jumlah penyewaan sepeda serta faktor-faktor yang dapat mempengaruhinya, seperti cuaca, musim, dan hari kerja/libur.\n",
    "\n",
    "---\n",
    "\n",
    "## 2️⃣ Preview Dataset\n",
    "**Contoh 5 baris pertama dari day.csv:**  \n",
    "- Terdapat kolom `instant`, `dteday` (tanggal), `season`, `yr`, `mnth`, dan faktor cuaca seperti `temp`, `atemp`, `hum`, dan `windspeed`.\n",
    "- Data penyewaan sepeda tercatat dalam kolom `casual`, `registered`, dan `cnt` (total penyewaan).  \n",
    "\n",
    "**Contoh 5 baris pertama dari hour.csv:**  \n",
    "- Mirip dengan `day.csv`, tetapi memiliki tambahan kolom `hr` yang merepresentasikan jam dalam sehari (0-23).\n",
    "- Lebih granular dalam mencatat pola penggunaan sepeda berdasarkan jam.\n",
    "\n",
    "---\n",
    "\n",
    "## 3️⃣ Insight Awal dari Data\n",
    "1. **Jumlah penyewaan sepeda cenderung dipengaruhi oleh faktor cuaca**, seperti `weathersit`, `temp`, `hum`, dan `windspeed`.  \n",
    "2. **Terdapat perbedaan pola penggunaan antara pengguna casual dan registered**, yang dapat dianalisis lebih lanjut.  \n",
    "3. **Kolom `season` dan `mnth` memungkinkan kita melihat pola musiman dalam penyewaan sepeda** (misalnya, apakah musim panas lebih banyak peminjaman?).  \n",
    "4. **Kolom `workingday` dan `holiday` dapat digunakan untuk melihat apakah penyewaan lebih banyak pada hari kerja atau akhir pekan/libur**.  \n",
    "5. **Dataset `hour.csv` memberikan gambaran lebih mendetail**, misalnya **jam-jam sibuk penyewaan sepeda**.\n"
   ]
  },
  {
   "cell_type": "markdown",
   "metadata": {
    "id": "FHSiqaZp8DC1"
   },
   "source": [
    "### Assessing Data"
   ]
  },
  {
   "cell_type": "markdown",
   "metadata": {
    "id": "FHSiqaZp8DC1"
   },
   "source": [
    "#### Menilai tabel `df_day`"
   ]
  },
  {
   "cell_type": "code",
   "execution_count": 3,
   "metadata": {
    "id": "ax-3tEjc9Cj1"
   },
   "outputs": [
    {
     "name": "stdout",
     "output_type": "stream",
     "text": [
      "Informasi dataset harian (day.csv):\n",
      "<class 'pandas.core.frame.DataFrame'>\n",
      "RangeIndex: 731 entries, 0 to 730\n",
      "Data columns (total 16 columns):\n",
      " #   Column      Non-Null Count  Dtype  \n",
      "---  ------      --------------  -----  \n",
      " 0   instant     731 non-null    int64  \n",
      " 1   dteday      731 non-null    object \n",
      " 2   season      731 non-null    int64  \n",
      " 3   yr          731 non-null    int64  \n",
      " 4   mnth        731 non-null    int64  \n",
      " 5   holiday     731 non-null    int64  \n",
      " 6   weekday     731 non-null    int64  \n",
      " 7   workingday  731 non-null    int64  \n",
      " 8   weathersit  731 non-null    int64  \n",
      " 9   temp        731 non-null    float64\n",
      " 10  atemp       731 non-null    float64\n",
      " 11  hum         731 non-null    float64\n",
      " 12  windspeed   731 non-null    float64\n",
      " 13  casual      731 non-null    int64  \n",
      " 14  registered  731 non-null    int64  \n",
      " 15  cnt         731 non-null    int64  \n",
      "dtypes: float64(4), int64(11), object(1)\n",
      "memory usage: 91.5+ KB\n"
     ]
    }
   ],
   "source": [
    "print(\"Informasi dataset harian (day.csv):\")\n",
    "df_day.info()"
   ]
  },
  {
   "cell_type": "code",
   "execution_count": 4,
   "metadata": {
    "id": "ax-3tEjc9Cj1"
   },
   "outputs": [
    {
     "name": "stdout",
     "output_type": "stream",
     "text": [
      "Missing values di day.csv:\n",
      "instant       0\n",
      "dteday        0\n",
      "season        0\n",
      "yr            0\n",
      "mnth          0\n",
      "holiday       0\n",
      "weekday       0\n",
      "workingday    0\n",
      "weathersit    0\n",
      "temp          0\n",
      "atemp         0\n",
      "hum           0\n",
      "windspeed     0\n",
      "casual        0\n",
      "registered    0\n",
      "cnt           0\n",
      "dtype: int64\n"
     ]
    }
   ],
   "source": [
    "print(\"Missing values di day.csv:\")\n",
    "print(df_day.isnull().sum())"
   ]
  },
  {
   "cell_type": "code",
   "execution_count": 5,
   "metadata": {
    "id": "ax-3tEjc9Cj1"
   },
   "outputs": [
    {
     "name": "stdout",
     "output_type": "stream",
     "text": [
      "Jumlah duplikasi di day.csv: 0\n"
     ]
    }
   ],
   "source": [
    "print(\"Jumlah duplikasi di day.csv:\", df_day.duplicated().sum())"
   ]
  },
  {
   "cell_type": "code",
   "execution_count": 6,
   "metadata": {
    "id": "ax-3tEjc9Cj1"
   },
   "outputs": [
    {
     "name": "stdout",
     "output_type": "stream",
     "text": [
      "Statistik deskriptif dataset harian:\n"
     ]
    },
    {
     "data": {
      "text/html": [
       "<div>\n",
       "<style scoped>\n",
       "    .dataframe tbody tr th:only-of-type {\n",
       "        vertical-align: middle;\n",
       "    }\n",
       "\n",
       "    .dataframe tbody tr th {\n",
       "        vertical-align: top;\n",
       "    }\n",
       "\n",
       "    .dataframe thead th {\n",
       "        text-align: right;\n",
       "    }\n",
       "</style>\n",
       "<table border=\"1\" class=\"dataframe\">\n",
       "  <thead>\n",
       "    <tr style=\"text-align: right;\">\n",
       "      <th></th>\n",
       "      <th>instant</th>\n",
       "      <th>season</th>\n",
       "      <th>yr</th>\n",
       "      <th>mnth</th>\n",
       "      <th>holiday</th>\n",
       "      <th>weekday</th>\n",
       "      <th>workingday</th>\n",
       "      <th>weathersit</th>\n",
       "      <th>temp</th>\n",
       "      <th>atemp</th>\n",
       "      <th>hum</th>\n",
       "      <th>windspeed</th>\n",
       "      <th>casual</th>\n",
       "      <th>registered</th>\n",
       "      <th>cnt</th>\n",
       "    </tr>\n",
       "  </thead>\n",
       "  <tbody>\n",
       "    <tr>\n",
       "      <th>count</th>\n",
       "      <td>731.000000</td>\n",
       "      <td>731.000000</td>\n",
       "      <td>731.000000</td>\n",
       "      <td>731.000000</td>\n",
       "      <td>731.000000</td>\n",
       "      <td>731.000000</td>\n",
       "      <td>731.000000</td>\n",
       "      <td>731.000000</td>\n",
       "      <td>731.000000</td>\n",
       "      <td>731.000000</td>\n",
       "      <td>731.000000</td>\n",
       "      <td>731.000000</td>\n",
       "      <td>731.000000</td>\n",
       "      <td>731.000000</td>\n",
       "      <td>731.000000</td>\n",
       "    </tr>\n",
       "    <tr>\n",
       "      <th>mean</th>\n",
       "      <td>366.000000</td>\n",
       "      <td>2.496580</td>\n",
       "      <td>0.500684</td>\n",
       "      <td>6.519836</td>\n",
       "      <td>0.028728</td>\n",
       "      <td>2.997264</td>\n",
       "      <td>0.683995</td>\n",
       "      <td>1.395349</td>\n",
       "      <td>0.495385</td>\n",
       "      <td>0.474354</td>\n",
       "      <td>0.627894</td>\n",
       "      <td>0.190486</td>\n",
       "      <td>848.176471</td>\n",
       "      <td>3656.172367</td>\n",
       "      <td>4504.348837</td>\n",
       "    </tr>\n",
       "    <tr>\n",
       "      <th>std</th>\n",
       "      <td>211.165812</td>\n",
       "      <td>1.110807</td>\n",
       "      <td>0.500342</td>\n",
       "      <td>3.451913</td>\n",
       "      <td>0.167155</td>\n",
       "      <td>2.004787</td>\n",
       "      <td>0.465233</td>\n",
       "      <td>0.544894</td>\n",
       "      <td>0.183051</td>\n",
       "      <td>0.162961</td>\n",
       "      <td>0.142429</td>\n",
       "      <td>0.077498</td>\n",
       "      <td>686.622488</td>\n",
       "      <td>1560.256377</td>\n",
       "      <td>1937.211452</td>\n",
       "    </tr>\n",
       "    <tr>\n",
       "      <th>min</th>\n",
       "      <td>1.000000</td>\n",
       "      <td>1.000000</td>\n",
       "      <td>0.000000</td>\n",
       "      <td>1.000000</td>\n",
       "      <td>0.000000</td>\n",
       "      <td>0.000000</td>\n",
       "      <td>0.000000</td>\n",
       "      <td>1.000000</td>\n",
       "      <td>0.059130</td>\n",
       "      <td>0.079070</td>\n",
       "      <td>0.000000</td>\n",
       "      <td>0.022392</td>\n",
       "      <td>2.000000</td>\n",
       "      <td>20.000000</td>\n",
       "      <td>22.000000</td>\n",
       "    </tr>\n",
       "    <tr>\n",
       "      <th>25%</th>\n",
       "      <td>183.500000</td>\n",
       "      <td>2.000000</td>\n",
       "      <td>0.000000</td>\n",
       "      <td>4.000000</td>\n",
       "      <td>0.000000</td>\n",
       "      <td>1.000000</td>\n",
       "      <td>0.000000</td>\n",
       "      <td>1.000000</td>\n",
       "      <td>0.337083</td>\n",
       "      <td>0.337842</td>\n",
       "      <td>0.520000</td>\n",
       "      <td>0.134950</td>\n",
       "      <td>315.500000</td>\n",
       "      <td>2497.000000</td>\n",
       "      <td>3152.000000</td>\n",
       "    </tr>\n",
       "    <tr>\n",
       "      <th>50%</th>\n",
       "      <td>366.000000</td>\n",
       "      <td>3.000000</td>\n",
       "      <td>1.000000</td>\n",
       "      <td>7.000000</td>\n",
       "      <td>0.000000</td>\n",
       "      <td>3.000000</td>\n",
       "      <td>1.000000</td>\n",
       "      <td>1.000000</td>\n",
       "      <td>0.498333</td>\n",
       "      <td>0.486733</td>\n",
       "      <td>0.626667</td>\n",
       "      <td>0.180975</td>\n",
       "      <td>713.000000</td>\n",
       "      <td>3662.000000</td>\n",
       "      <td>4548.000000</td>\n",
       "    </tr>\n",
       "    <tr>\n",
       "      <th>75%</th>\n",
       "      <td>548.500000</td>\n",
       "      <td>3.000000</td>\n",
       "      <td>1.000000</td>\n",
       "      <td>10.000000</td>\n",
       "      <td>0.000000</td>\n",
       "      <td>5.000000</td>\n",
       "      <td>1.000000</td>\n",
       "      <td>2.000000</td>\n",
       "      <td>0.655417</td>\n",
       "      <td>0.608602</td>\n",
       "      <td>0.730209</td>\n",
       "      <td>0.233214</td>\n",
       "      <td>1096.000000</td>\n",
       "      <td>4776.500000</td>\n",
       "      <td>5956.000000</td>\n",
       "    </tr>\n",
       "    <tr>\n",
       "      <th>max</th>\n",
       "      <td>731.000000</td>\n",
       "      <td>4.000000</td>\n",
       "      <td>1.000000</td>\n",
       "      <td>12.000000</td>\n",
       "      <td>1.000000</td>\n",
       "      <td>6.000000</td>\n",
       "      <td>1.000000</td>\n",
       "      <td>3.000000</td>\n",
       "      <td>0.861667</td>\n",
       "      <td>0.840896</td>\n",
       "      <td>0.972500</td>\n",
       "      <td>0.507463</td>\n",
       "      <td>3410.000000</td>\n",
       "      <td>6946.000000</td>\n",
       "      <td>8714.000000</td>\n",
       "    </tr>\n",
       "  </tbody>\n",
       "</table>\n",
       "</div>"
      ],
      "text/plain": [
       "          instant      season          yr        mnth     holiday     weekday  \\\n",
       "count  731.000000  731.000000  731.000000  731.000000  731.000000  731.000000   \n",
       "mean   366.000000    2.496580    0.500684    6.519836    0.028728    2.997264   \n",
       "std    211.165812    1.110807    0.500342    3.451913    0.167155    2.004787   \n",
       "min      1.000000    1.000000    0.000000    1.000000    0.000000    0.000000   \n",
       "25%    183.500000    2.000000    0.000000    4.000000    0.000000    1.000000   \n",
       "50%    366.000000    3.000000    1.000000    7.000000    0.000000    3.000000   \n",
       "75%    548.500000    3.000000    1.000000   10.000000    0.000000    5.000000   \n",
       "max    731.000000    4.000000    1.000000   12.000000    1.000000    6.000000   \n",
       "\n",
       "       workingday  weathersit        temp       atemp         hum   windspeed  \\\n",
       "count  731.000000  731.000000  731.000000  731.000000  731.000000  731.000000   \n",
       "mean     0.683995    1.395349    0.495385    0.474354    0.627894    0.190486   \n",
       "std      0.465233    0.544894    0.183051    0.162961    0.142429    0.077498   \n",
       "min      0.000000    1.000000    0.059130    0.079070    0.000000    0.022392   \n",
       "25%      0.000000    1.000000    0.337083    0.337842    0.520000    0.134950   \n",
       "50%      1.000000    1.000000    0.498333    0.486733    0.626667    0.180975   \n",
       "75%      1.000000    2.000000    0.655417    0.608602    0.730209    0.233214   \n",
       "max      1.000000    3.000000    0.861667    0.840896    0.972500    0.507463   \n",
       "\n",
       "            casual   registered          cnt  \n",
       "count   731.000000   731.000000   731.000000  \n",
       "mean    848.176471  3656.172367  4504.348837  \n",
       "std     686.622488  1560.256377  1937.211452  \n",
       "min       2.000000    20.000000    22.000000  \n",
       "25%     315.500000  2497.000000  3152.000000  \n",
       "50%     713.000000  3662.000000  4548.000000  \n",
       "75%    1096.000000  4776.500000  5956.000000  \n",
       "max    3410.000000  6946.000000  8714.000000  "
      ]
     },
     "metadata": {},
     "output_type": "display_data"
    }
   ],
   "source": [
    "print(\"Statistik deskriptif dataset harian:\")\n",
    "display(df_day.describe())"
   ]
  },
  {
   "cell_type": "markdown",
   "metadata": {
    "id": "FHSiqaZp8DC1"
   },
   "source": [
    "#### Menilai tabel `df_hour`"
   ]
  },
  {
   "cell_type": "code",
   "execution_count": 7,
   "metadata": {
    "id": "ax-3tEjc9Cj1"
   },
   "outputs": [
    {
     "name": "stdout",
     "output_type": "stream",
     "text": [
      "\n",
      "Informasi dataset per jam (hour.csv):\n",
      "<class 'pandas.core.frame.DataFrame'>\n",
      "RangeIndex: 17379 entries, 0 to 17378\n",
      "Data columns (total 17 columns):\n",
      " #   Column      Non-Null Count  Dtype  \n",
      "---  ------      --------------  -----  \n",
      " 0   instant     17379 non-null  int64  \n",
      " 1   dteday      17379 non-null  object \n",
      " 2   season      17379 non-null  int64  \n",
      " 3   yr          17379 non-null  int64  \n",
      " 4   mnth        17379 non-null  int64  \n",
      " 5   hr          17379 non-null  int64  \n",
      " 6   holiday     17379 non-null  int64  \n",
      " 7   weekday     17379 non-null  int64  \n",
      " 8   workingday  17379 non-null  int64  \n",
      " 9   weathersit  17379 non-null  int64  \n",
      " 10  temp        17379 non-null  float64\n",
      " 11  atemp       17379 non-null  float64\n",
      " 12  hum         17379 non-null  float64\n",
      " 13  windspeed   17379 non-null  float64\n",
      " 14  casual      17379 non-null  int64  \n",
      " 15  registered  17379 non-null  int64  \n",
      " 16  cnt         17379 non-null  int64  \n",
      "dtypes: float64(4), int64(12), object(1)\n",
      "memory usage: 2.3+ MB\n"
     ]
    }
   ],
   "source": [
    "print(\"\\nInformasi dataset per jam (hour.csv):\")\n",
    "df_hour.info()"
   ]
  },
  {
   "cell_type": "code",
   "execution_count": 8,
   "metadata": {
    "id": "ax-3tEjc9Cj1"
   },
   "outputs": [
    {
     "name": "stdout",
     "output_type": "stream",
     "text": [
      "\n",
      "Missing values di hour.csv:\n",
      "instant       0\n",
      "dteday        0\n",
      "season        0\n",
      "yr            0\n",
      "mnth          0\n",
      "hr            0\n",
      "holiday       0\n",
      "weekday       0\n",
      "workingday    0\n",
      "weathersit    0\n",
      "temp          0\n",
      "atemp         0\n",
      "hum           0\n",
      "windspeed     0\n",
      "casual        0\n",
      "registered    0\n",
      "cnt           0\n",
      "dtype: int64\n"
     ]
    }
   ],
   "source": [
    "print(\"\\nMissing values di hour.csv:\")\n",
    "print(df_hour.isnull().sum())"
   ]
  },
  {
   "cell_type": "code",
   "execution_count": 9,
   "metadata": {
    "id": "ax-3tEjc9Cj1"
   },
   "outputs": [
    {
     "name": "stdout",
     "output_type": "stream",
     "text": [
      "Jumlah duplikasi di hour.csv: 0\n"
     ]
    }
   ],
   "source": [
    "print(\"Jumlah duplikasi di hour.csv:\", df_hour.duplicated().sum())"
   ]
  },
  {
   "cell_type": "code",
   "execution_count": 10,
   "metadata": {
    "id": "ax-3tEjc9Cj1"
   },
   "outputs": [
    {
     "name": "stdout",
     "output_type": "stream",
     "text": [
      "\n",
      "Statistik deskriptif dataset per jam:\n"
     ]
    },
    {
     "data": {
      "text/html": [
       "<div>\n",
       "<style scoped>\n",
       "    .dataframe tbody tr th:only-of-type {\n",
       "        vertical-align: middle;\n",
       "    }\n",
       "\n",
       "    .dataframe tbody tr th {\n",
       "        vertical-align: top;\n",
       "    }\n",
       "\n",
       "    .dataframe thead th {\n",
       "        text-align: right;\n",
       "    }\n",
       "</style>\n",
       "<table border=\"1\" class=\"dataframe\">\n",
       "  <thead>\n",
       "    <tr style=\"text-align: right;\">\n",
       "      <th></th>\n",
       "      <th>instant</th>\n",
       "      <th>season</th>\n",
       "      <th>yr</th>\n",
       "      <th>mnth</th>\n",
       "      <th>hr</th>\n",
       "      <th>holiday</th>\n",
       "      <th>weekday</th>\n",
       "      <th>workingday</th>\n",
       "      <th>weathersit</th>\n",
       "      <th>temp</th>\n",
       "      <th>atemp</th>\n",
       "      <th>hum</th>\n",
       "      <th>windspeed</th>\n",
       "      <th>casual</th>\n",
       "      <th>registered</th>\n",
       "      <th>cnt</th>\n",
       "    </tr>\n",
       "  </thead>\n",
       "  <tbody>\n",
       "    <tr>\n",
       "      <th>count</th>\n",
       "      <td>17379.0000</td>\n",
       "      <td>17379.000000</td>\n",
       "      <td>17379.000000</td>\n",
       "      <td>17379.000000</td>\n",
       "      <td>17379.000000</td>\n",
       "      <td>17379.000000</td>\n",
       "      <td>17379.000000</td>\n",
       "      <td>17379.000000</td>\n",
       "      <td>17379.000000</td>\n",
       "      <td>17379.000000</td>\n",
       "      <td>17379.000000</td>\n",
       "      <td>17379.000000</td>\n",
       "      <td>17379.000000</td>\n",
       "      <td>17379.000000</td>\n",
       "      <td>17379.000000</td>\n",
       "      <td>17379.000000</td>\n",
       "    </tr>\n",
       "    <tr>\n",
       "      <th>mean</th>\n",
       "      <td>8690.0000</td>\n",
       "      <td>2.501640</td>\n",
       "      <td>0.502561</td>\n",
       "      <td>6.537775</td>\n",
       "      <td>11.546752</td>\n",
       "      <td>0.028770</td>\n",
       "      <td>3.003683</td>\n",
       "      <td>0.682721</td>\n",
       "      <td>1.425283</td>\n",
       "      <td>0.496987</td>\n",
       "      <td>0.475775</td>\n",
       "      <td>0.627229</td>\n",
       "      <td>0.190098</td>\n",
       "      <td>35.676218</td>\n",
       "      <td>153.786869</td>\n",
       "      <td>189.463088</td>\n",
       "    </tr>\n",
       "    <tr>\n",
       "      <th>std</th>\n",
       "      <td>5017.0295</td>\n",
       "      <td>1.106918</td>\n",
       "      <td>0.500008</td>\n",
       "      <td>3.438776</td>\n",
       "      <td>6.914405</td>\n",
       "      <td>0.167165</td>\n",
       "      <td>2.005771</td>\n",
       "      <td>0.465431</td>\n",
       "      <td>0.639357</td>\n",
       "      <td>0.192556</td>\n",
       "      <td>0.171850</td>\n",
       "      <td>0.192930</td>\n",
       "      <td>0.122340</td>\n",
       "      <td>49.305030</td>\n",
       "      <td>151.357286</td>\n",
       "      <td>181.387599</td>\n",
       "    </tr>\n",
       "    <tr>\n",
       "      <th>min</th>\n",
       "      <td>1.0000</td>\n",
       "      <td>1.000000</td>\n",
       "      <td>0.000000</td>\n",
       "      <td>1.000000</td>\n",
       "      <td>0.000000</td>\n",
       "      <td>0.000000</td>\n",
       "      <td>0.000000</td>\n",
       "      <td>0.000000</td>\n",
       "      <td>1.000000</td>\n",
       "      <td>0.020000</td>\n",
       "      <td>0.000000</td>\n",
       "      <td>0.000000</td>\n",
       "      <td>0.000000</td>\n",
       "      <td>0.000000</td>\n",
       "      <td>0.000000</td>\n",
       "      <td>1.000000</td>\n",
       "    </tr>\n",
       "    <tr>\n",
       "      <th>25%</th>\n",
       "      <td>4345.5000</td>\n",
       "      <td>2.000000</td>\n",
       "      <td>0.000000</td>\n",
       "      <td>4.000000</td>\n",
       "      <td>6.000000</td>\n",
       "      <td>0.000000</td>\n",
       "      <td>1.000000</td>\n",
       "      <td>0.000000</td>\n",
       "      <td>1.000000</td>\n",
       "      <td>0.340000</td>\n",
       "      <td>0.333300</td>\n",
       "      <td>0.480000</td>\n",
       "      <td>0.104500</td>\n",
       "      <td>4.000000</td>\n",
       "      <td>34.000000</td>\n",
       "      <td>40.000000</td>\n",
       "    </tr>\n",
       "    <tr>\n",
       "      <th>50%</th>\n",
       "      <td>8690.0000</td>\n",
       "      <td>3.000000</td>\n",
       "      <td>1.000000</td>\n",
       "      <td>7.000000</td>\n",
       "      <td>12.000000</td>\n",
       "      <td>0.000000</td>\n",
       "      <td>3.000000</td>\n",
       "      <td>1.000000</td>\n",
       "      <td>1.000000</td>\n",
       "      <td>0.500000</td>\n",
       "      <td>0.484800</td>\n",
       "      <td>0.630000</td>\n",
       "      <td>0.194000</td>\n",
       "      <td>17.000000</td>\n",
       "      <td>115.000000</td>\n",
       "      <td>142.000000</td>\n",
       "    </tr>\n",
       "    <tr>\n",
       "      <th>75%</th>\n",
       "      <td>13034.5000</td>\n",
       "      <td>3.000000</td>\n",
       "      <td>1.000000</td>\n",
       "      <td>10.000000</td>\n",
       "      <td>18.000000</td>\n",
       "      <td>0.000000</td>\n",
       "      <td>5.000000</td>\n",
       "      <td>1.000000</td>\n",
       "      <td>2.000000</td>\n",
       "      <td>0.660000</td>\n",
       "      <td>0.621200</td>\n",
       "      <td>0.780000</td>\n",
       "      <td>0.253700</td>\n",
       "      <td>48.000000</td>\n",
       "      <td>220.000000</td>\n",
       "      <td>281.000000</td>\n",
       "    </tr>\n",
       "    <tr>\n",
       "      <th>max</th>\n",
       "      <td>17379.0000</td>\n",
       "      <td>4.000000</td>\n",
       "      <td>1.000000</td>\n",
       "      <td>12.000000</td>\n",
       "      <td>23.000000</td>\n",
       "      <td>1.000000</td>\n",
       "      <td>6.000000</td>\n",
       "      <td>1.000000</td>\n",
       "      <td>4.000000</td>\n",
       "      <td>1.000000</td>\n",
       "      <td>1.000000</td>\n",
       "      <td>1.000000</td>\n",
       "      <td>0.850700</td>\n",
       "      <td>367.000000</td>\n",
       "      <td>886.000000</td>\n",
       "      <td>977.000000</td>\n",
       "    </tr>\n",
       "  </tbody>\n",
       "</table>\n",
       "</div>"
      ],
      "text/plain": [
       "          instant        season            yr          mnth            hr  \\\n",
       "count  17379.0000  17379.000000  17379.000000  17379.000000  17379.000000   \n",
       "mean    8690.0000      2.501640      0.502561      6.537775     11.546752   \n",
       "std     5017.0295      1.106918      0.500008      3.438776      6.914405   \n",
       "min        1.0000      1.000000      0.000000      1.000000      0.000000   \n",
       "25%     4345.5000      2.000000      0.000000      4.000000      6.000000   \n",
       "50%     8690.0000      3.000000      1.000000      7.000000     12.000000   \n",
       "75%    13034.5000      3.000000      1.000000     10.000000     18.000000   \n",
       "max    17379.0000      4.000000      1.000000     12.000000     23.000000   \n",
       "\n",
       "            holiday       weekday    workingday    weathersit          temp  \\\n",
       "count  17379.000000  17379.000000  17379.000000  17379.000000  17379.000000   \n",
       "mean       0.028770      3.003683      0.682721      1.425283      0.496987   \n",
       "std        0.167165      2.005771      0.465431      0.639357      0.192556   \n",
       "min        0.000000      0.000000      0.000000      1.000000      0.020000   \n",
       "25%        0.000000      1.000000      0.000000      1.000000      0.340000   \n",
       "50%        0.000000      3.000000      1.000000      1.000000      0.500000   \n",
       "75%        0.000000      5.000000      1.000000      2.000000      0.660000   \n",
       "max        1.000000      6.000000      1.000000      4.000000      1.000000   \n",
       "\n",
       "              atemp           hum     windspeed        casual    registered  \\\n",
       "count  17379.000000  17379.000000  17379.000000  17379.000000  17379.000000   \n",
       "mean       0.475775      0.627229      0.190098     35.676218    153.786869   \n",
       "std        0.171850      0.192930      0.122340     49.305030    151.357286   \n",
       "min        0.000000      0.000000      0.000000      0.000000      0.000000   \n",
       "25%        0.333300      0.480000      0.104500      4.000000     34.000000   \n",
       "50%        0.484800      0.630000      0.194000     17.000000    115.000000   \n",
       "75%        0.621200      0.780000      0.253700     48.000000    220.000000   \n",
       "max        1.000000      1.000000      0.850700    367.000000    886.000000   \n",
       "\n",
       "                cnt  \n",
       "count  17379.000000  \n",
       "mean     189.463088  \n",
       "std      181.387599  \n",
       "min        1.000000  \n",
       "25%       40.000000  \n",
       "50%      142.000000  \n",
       "75%      281.000000  \n",
       "max      977.000000  "
      ]
     },
     "metadata": {},
     "output_type": "display_data"
    }
   ],
   "source": [
    "print(\"\\nStatistik deskriptif dataset per jam:\")\n",
    "display(df_hour.describe())"
   ]
  },
  {
   "cell_type": "code",
   "execution_count": 11,
   "metadata": {
    "id": "ax-3tEjc9Cj1"
   },
   "outputs": [],
   "source": [
    "categorical_columns = ['season', 'yr', 'mnth', 'holiday', 'weekday', 'workingday', 'weathersit']"
   ]
  },
  {
   "cell_type": "code",
   "execution_count": 12,
   "metadata": {
    "id": "ax-3tEjc9Cj1"
   },
   "outputs": [
    {
     "name": "stdout",
     "output_type": "stream",
     "text": [
      "Distribusi kategori pada dataset harian:\n",
      "season: [1 2 3 4]\n",
      "yr: [0 1]\n",
      "mnth: [ 1  2  3  4  5  6  7  8  9 10 11 12]\n",
      "holiday: [0 1]\n",
      "weekday: [6 0 1 2 3 4 5]\n",
      "workingday: [0 1]\n",
      "weathersit: [2 1 3]\n"
     ]
    }
   ],
   "source": [
    "print(\"Distribusi kategori pada dataset harian:\")\n",
    "for col in categorical_columns:\n",
    "    print(f\"{col}: {df_day[col].unique()}\")"
   ]
  },
  {
   "cell_type": "code",
   "execution_count": 13,
   "metadata": {
    "id": "ax-3tEjc9Cj1"
   },
   "outputs": [
    {
     "name": "stdout",
     "output_type": "stream",
     "text": [
      "\n",
      "Distribusi kategori pada dataset per jam:\n",
      "season: [1 2 3 4]\n",
      "yr: [0 1]\n",
      "mnth: [ 1  2  3  4  5  6  7  8  9 10 11 12]\n",
      "holiday: [0 1]\n",
      "weekday: [6 0 1 2 3 4 5]\n",
      "workingday: [0 1]\n",
      "weathersit: [1 2 3 4]\n"
     ]
    }
   ],
   "source": [
    "print(\"\\nDistribusi kategori pada dataset per jam:\")\n",
    "for col in categorical_columns:\n",
    "    if col in df_hour.columns:\n",
    "        print(f\"{col}: {df_hour[col].unique()}\")"
   ]
  },
  {
   "cell_type": "markdown",
   "metadata": {
    "id": "7dtxhAPrkhPL"
   },
   "source": [
    "**Insight:**\n",
    "\n",
    "## 1️⃣ Kualitas Data\n",
    "- Tidak ditemukan **missing values** dalam dataset.\n",
    "- Tidak ada **data duplikat**, sehingga dataset sudah bersih dalam hal redundansi data.\n",
    "- Tidak ada **anomali yang mencolok**, seperti kategori yang tidak sesuai.\n",
    "- Terdapat kesalahan tipe data untuk `dteday`, yang seharusnya memiliki tipe data 'date'.\n",
    "\n",
    "---\n",
    "\n",
    "## 2️⃣ Distribusi Data\n",
    "- Dataset ini memiliki **data yang cukup seimbang** antar kategori seperti musim (`season`), hari (`weekday`), dan jam (`hr`).\n",
    "- Namun, ada kemungkinan ketimpangan jumlah penyewaan berdasarkan **hari kerja vs akhir pekan**, yang perlu dianalisis lebih lanjut.\n",
    "\n",
    "---"
   ]
  },
  {
   "cell_type": "markdown",
   "metadata": {
    "id": "EhN5R4hr8DC1"
   },
   "source": [
    "### Cleaning Data"
   ]
  },
  {
   "cell_type": "code",
   "execution_count": 14,
   "metadata": {
    "id": "jVnYpprE9Evz"
   },
   "outputs": [
    {
     "name": "stdout",
     "output_type": "stream",
     "text": [
      "<class 'pandas.core.frame.DataFrame'>\n",
      "RangeIndex: 731 entries, 0 to 730\n",
      "Data columns (total 16 columns):\n",
      " #   Column      Non-Null Count  Dtype         \n",
      "---  ------      --------------  -----         \n",
      " 0   instant     731 non-null    int64         \n",
      " 1   dteday      731 non-null    datetime64[ns]\n",
      " 2   season      731 non-null    int64         \n",
      " 3   yr          731 non-null    int64         \n",
      " 4   mnth        731 non-null    int64         \n",
      " 5   holiday     731 non-null    int64         \n",
      " 6   weekday     731 non-null    int64         \n",
      " 7   workingday  731 non-null    int64         \n",
      " 8   weathersit  731 non-null    int64         \n",
      " 9   temp        731 non-null    float64       \n",
      " 10  atemp       731 non-null    float64       \n",
      " 11  hum         731 non-null    float64       \n",
      " 12  windspeed   731 non-null    float64       \n",
      " 13  casual      731 non-null    int64         \n",
      " 14  registered  731 non-null    int64         \n",
      " 15  cnt         731 non-null    int64         \n",
      "dtypes: datetime64[ns](1), float64(4), int64(11)\n",
      "memory usage: 91.5 KB\n"
     ]
    }
   ],
   "source": [
    "df_day['dteday'] = pd.to_datetime(df_day['dteday'])\n",
    "\n",
    "# Cek kembali tipe data untuk memastikan perubahan\n",
    "df_day.info()"
   ]
  },
  {
   "cell_type": "code",
   "execution_count": 15,
   "metadata": {
    "id": "jVnYpprE9Evz"
   },
   "outputs": [
    {
     "name": "stdout",
     "output_type": "stream",
     "text": [
      "<class 'pandas.core.frame.DataFrame'>\n",
      "RangeIndex: 17379 entries, 0 to 17378\n",
      "Data columns (total 17 columns):\n",
      " #   Column      Non-Null Count  Dtype         \n",
      "---  ------      --------------  -----         \n",
      " 0   instant     17379 non-null  int64         \n",
      " 1   dteday      17379 non-null  datetime64[ns]\n",
      " 2   season      17379 non-null  int64         \n",
      " 3   yr          17379 non-null  int64         \n",
      " 4   mnth        17379 non-null  int64         \n",
      " 5   hr          17379 non-null  int64         \n",
      " 6   holiday     17379 non-null  int64         \n",
      " 7   weekday     17379 non-null  int64         \n",
      " 8   workingday  17379 non-null  int64         \n",
      " 9   weathersit  17379 non-null  int64         \n",
      " 10  temp        17379 non-null  float64       \n",
      " 11  atemp       17379 non-null  float64       \n",
      " 12  hum         17379 non-null  float64       \n",
      " 13  windspeed   17379 non-null  float64       \n",
      " 14  casual      17379 non-null  int64         \n",
      " 15  registered  17379 non-null  int64         \n",
      " 16  cnt         17379 non-null  int64         \n",
      "dtypes: datetime64[ns](1), float64(4), int64(12)\n",
      "memory usage: 2.3 MB\n"
     ]
    }
   ],
   "source": [
    "df_hour['dteday'] = pd.to_datetime(df_hour['dteday'])\n",
    "\n",
    "# Cek kembali tipe data untuk memastikan perubahan\n",
    "df_hour.info()"
   ]
  },
  {
   "cell_type": "markdown",
   "metadata": {
    "id": "Q_5ejIqckiSP"
   },
   "source": [
    "**Insight:**\n",
    "\n",
    "Kolom `dteday` awalnya bertipe **object (string)**, yang dapat menyulitkan analisis berbasis waktu.  \n",
    "Konversi tipe data menjadi **datetime** akan memberikan manfaat berikut:\n",
    "- Memudahkan **pengelompokan data** berdasarkan tahun, bulan, atau hari.\n",
    "- Memungkinkan **analisis tren waktu**, seperti melihat pola penggunaan sepeda dari waktu ke waktu.\n",
    "- Mempermudah perhitungan **interval waktu** jika dibutuhkan."
   ]
  },
  {
   "cell_type": "markdown",
   "metadata": {
    "id": "gp-Y6wU38DC1"
   },
   "source": [
    "## Exploratory Data Analysis (EDA)"
   ]
  },
  {
   "cell_type": "markdown",
   "metadata": {
    "id": "MW7WF2kr8DC1"
   },
   "source": [
    "### Explore `df_day` & `df_hour` data"
   ]
  },
  {
   "cell_type": "markdown",
   "metadata": {
    "id": "MW7WF2kr8DC1"
   },
   "source": [
    "#### Bagaimana pola penggunaan sepeda berdasarkan musim?"
   ]
  },
  {
   "cell_type": "code",
   "execution_count": 16,
   "metadata": {
    "id": "e9CQCZjk8DC2"
   },
   "outputs": [
    {
     "data": {
      "text/html": [
       "<div>\n",
       "<style scoped>\n",
       "    .dataframe tbody tr th:only-of-type {\n",
       "        vertical-align: middle;\n",
       "    }\n",
       "\n",
       "    .dataframe tbody tr th {\n",
       "        vertical-align: top;\n",
       "    }\n",
       "\n",
       "    .dataframe thead tr th {\n",
       "        text-align: left;\n",
       "    }\n",
       "</style>\n",
       "<table border=\"1\" class=\"dataframe\">\n",
       "  <thead>\n",
       "    <tr>\n",
       "      <th></th>\n",
       "      <th>season</th>\n",
       "      <th colspan=\"4\" halign=\"left\">cnt</th>\n",
       "    </tr>\n",
       "    <tr>\n",
       "      <th></th>\n",
       "      <th></th>\n",
       "      <th>mean</th>\n",
       "      <th>median</th>\n",
       "      <th>sum</th>\n",
       "      <th>count</th>\n",
       "    </tr>\n",
       "  </thead>\n",
       "  <tbody>\n",
       "    <tr>\n",
       "      <th>0</th>\n",
       "      <td>1</td>\n",
       "      <td>2604.132597</td>\n",
       "      <td>2209.0</td>\n",
       "      <td>471348</td>\n",
       "      <td>181</td>\n",
       "    </tr>\n",
       "    <tr>\n",
       "      <th>1</th>\n",
       "      <td>2</td>\n",
       "      <td>4992.331522</td>\n",
       "      <td>4941.5</td>\n",
       "      <td>918589</td>\n",
       "      <td>184</td>\n",
       "    </tr>\n",
       "    <tr>\n",
       "      <th>2</th>\n",
       "      <td>3</td>\n",
       "      <td>5644.303191</td>\n",
       "      <td>5353.5</td>\n",
       "      <td>1061129</td>\n",
       "      <td>188</td>\n",
       "    </tr>\n",
       "    <tr>\n",
       "      <th>3</th>\n",
       "      <td>4</td>\n",
       "      <td>4728.162921</td>\n",
       "      <td>4634.5</td>\n",
       "      <td>841613</td>\n",
       "      <td>178</td>\n",
       "    </tr>\n",
       "  </tbody>\n",
       "</table>\n",
       "</div>"
      ],
      "text/plain": [
       "  season          cnt                       \n",
       "                 mean  median      sum count\n",
       "0      1  2604.132597  2209.0   471348   181\n",
       "1      2  4992.331522  4941.5   918589   184\n",
       "2      3  5644.303191  5353.5  1061129   188\n",
       "3      4  4728.162921  4634.5   841613   178"
      ]
     },
     "execution_count": 16,
     "metadata": {},
     "output_type": "execute_result"
    }
   ],
   "source": [
    "season_usage = df_day.groupby(\"season\").agg({'cnt': [\"mean\", \"median\", \"sum\", \"count\"]}).reset_index()\n",
    "\n",
    "# Menampilkan hasil eksplorasi\n",
    "season_usage"
   ]
  },
  {
   "cell_type": "markdown",
   "metadata": {
    "id": "th_Lzl2Fkj9O"
   },
   "source": [
    "**Insight:**\n",
    "- Musim gugur (Fall - 3) memiliki rata-rata penyewaan sepeda tertinggi, kemungkinan karena cuaca yang lebih nyaman untuk bersepeda.\n",
    "- Musim semi (Spring - 1) cenderung memiliki jumlah penyewaan paling rendah, mungkin karena kondisi cuaca yang masih kurang ideal.\n",
    "- Musim panas (Summer - 2) dan musim dingin (Winter - 4) memiliki pola penyewaan yang cukup stabil, tetapi bisa saja dipengaruhi oleh faktor lain seperti liburan atau kondisi jalan."
   ]
  },
  {
   "cell_type": "markdown",
   "metadata": {
    "id": "MW7WF2kr8DC1"
   },
   "source": [
    "#### Seberapa besar pengaruh cuaca terhadap jumlah penyewaan sepeda?"
   ]
  },
  {
   "cell_type": "code",
   "execution_count": 17,
   "metadata": {
    "id": "e9CQCZjk8DC2"
   },
   "outputs": [
    {
     "data": {
      "text/html": [
       "<div>\n",
       "<style scoped>\n",
       "    .dataframe tbody tr th:only-of-type {\n",
       "        vertical-align: middle;\n",
       "    }\n",
       "\n",
       "    .dataframe tbody tr th {\n",
       "        vertical-align: top;\n",
       "    }\n",
       "\n",
       "    .dataframe thead tr th {\n",
       "        text-align: left;\n",
       "    }\n",
       "</style>\n",
       "<table border=\"1\" class=\"dataframe\">\n",
       "  <thead>\n",
       "    <tr>\n",
       "      <th></th>\n",
       "      <th>weathersit</th>\n",
       "      <th colspan=\"4\" halign=\"left\">cnt</th>\n",
       "    </tr>\n",
       "    <tr>\n",
       "      <th></th>\n",
       "      <th></th>\n",
       "      <th>mean</th>\n",
       "      <th>median</th>\n",
       "      <th>sum</th>\n",
       "      <th>count</th>\n",
       "    </tr>\n",
       "  </thead>\n",
       "  <tbody>\n",
       "    <tr>\n",
       "      <th>0</th>\n",
       "      <td>1</td>\n",
       "      <td>4876.786177</td>\n",
       "      <td>4844.0</td>\n",
       "      <td>2257952</td>\n",
       "      <td>463</td>\n",
       "    </tr>\n",
       "    <tr>\n",
       "      <th>1</th>\n",
       "      <td>2</td>\n",
       "      <td>4035.862348</td>\n",
       "      <td>4040.0</td>\n",
       "      <td>996858</td>\n",
       "      <td>247</td>\n",
       "    </tr>\n",
       "    <tr>\n",
       "      <th>2</th>\n",
       "      <td>3</td>\n",
       "      <td>1803.285714</td>\n",
       "      <td>1817.0</td>\n",
       "      <td>37869</td>\n",
       "      <td>21</td>\n",
       "    </tr>\n",
       "  </tbody>\n",
       "</table>\n",
       "</div>"
      ],
      "text/plain": [
       "  weathersit          cnt                       \n",
       "                     mean  median      sum count\n",
       "0          1  4876.786177  4844.0  2257952   463\n",
       "1          2  4035.862348  4040.0   996858   247\n",
       "2          3  1803.285714  1817.0    37869    21"
      ]
     },
     "execution_count": 17,
     "metadata": {},
     "output_type": "execute_result"
    }
   ],
   "source": [
    "weather_usage = df_day.groupby(\"weathersit\").agg({'cnt': [\"mean\", \"median\", \"sum\", \"count\"]}).reset_index()\n",
    "\n",
    "# Menampilkan hasil eksplorasi\n",
    "weather_usage"
   ]
  },
  {
   "cell_type": "markdown",
   "metadata": {
    "id": "th_Lzl2Fkj9O"
   },
   "source": [
    "**Insight:**\n",
    "- Cuaca cerah atau berawan ringan (weathersit = 1) memiliki jumlah penyewaan sepeda tertinggi, karena kondisi ini lebih nyaman untuk bersepeda.\n",
    "- Cuaca berkabut atau mendung (weathersit = 2) menunjukkan sedikit penurunan dalam jumlah penyewaan sepeda, kemungkinan karena visibilitas yang berkurang atau kelembapan yang lebih tinggi.\n",
    "- Cuaca hujan ringan atau salju ringan (weathersit = 3) menyebabkan penurunan signifikan dalam penyewaan sepeda, yang masuk akal karena bersepeda dalam kondisi ini lebih sulit dan kurang nyaman.\n",
    "- Cuaca ekstrem seperti hujan deras atau badai salju (weathersit = 4) tidak ada penyewaan sepeda sama sekali."
   ]
  },
  {
   "cell_type": "markdown",
   "metadata": {
    "id": "MW7WF2kr8DC1"
   },
   "source": [
    "#### Pada jam berapa penyewaan sepeda paling tinggi dan paling rendah dalam sehari?"
   ]
  },
  {
   "cell_type": "code",
   "execution_count": 18,
   "metadata": {
    "id": "e9CQCZjk8DC2"
   },
   "outputs": [
    {
     "data": {
      "text/html": [
       "<div>\n",
       "<style scoped>\n",
       "    .dataframe tbody tr th:only-of-type {\n",
       "        vertical-align: middle;\n",
       "    }\n",
       "\n",
       "    .dataframe tbody tr th {\n",
       "        vertical-align: top;\n",
       "    }\n",
       "\n",
       "    .dataframe thead tr th {\n",
       "        text-align: left;\n",
       "    }\n",
       "</style>\n",
       "<table border=\"1\" class=\"dataframe\">\n",
       "  <thead>\n",
       "    <tr>\n",
       "      <th></th>\n",
       "      <th>hr</th>\n",
       "      <th colspan=\"4\" halign=\"left\">cnt</th>\n",
       "    </tr>\n",
       "    <tr>\n",
       "      <th></th>\n",
       "      <th></th>\n",
       "      <th>mean</th>\n",
       "      <th>median</th>\n",
       "      <th>sum</th>\n",
       "      <th>count</th>\n",
       "    </tr>\n",
       "  </thead>\n",
       "  <tbody>\n",
       "    <tr>\n",
       "      <th>0</th>\n",
       "      <td>0</td>\n",
       "      <td>53.898072</td>\n",
       "      <td>40.0</td>\n",
       "      <td>39130</td>\n",
       "      <td>726</td>\n",
       "    </tr>\n",
       "    <tr>\n",
       "      <th>1</th>\n",
       "      <td>1</td>\n",
       "      <td>33.375691</td>\n",
       "      <td>20.0</td>\n",
       "      <td>24164</td>\n",
       "      <td>724</td>\n",
       "    </tr>\n",
       "    <tr>\n",
       "      <th>2</th>\n",
       "      <td>2</td>\n",
       "      <td>22.869930</td>\n",
       "      <td>11.0</td>\n",
       "      <td>16352</td>\n",
       "      <td>715</td>\n",
       "    </tr>\n",
       "    <tr>\n",
       "      <th>3</th>\n",
       "      <td>3</td>\n",
       "      <td>11.727403</td>\n",
       "      <td>6.0</td>\n",
       "      <td>8174</td>\n",
       "      <td>697</td>\n",
       "    </tr>\n",
       "    <tr>\n",
       "      <th>4</th>\n",
       "      <td>4</td>\n",
       "      <td>6.352941</td>\n",
       "      <td>6.0</td>\n",
       "      <td>4428</td>\n",
       "      <td>697</td>\n",
       "    </tr>\n",
       "    <tr>\n",
       "      <th>5</th>\n",
       "      <td>5</td>\n",
       "      <td>19.889819</td>\n",
       "      <td>19.0</td>\n",
       "      <td>14261</td>\n",
       "      <td>717</td>\n",
       "    </tr>\n",
       "    <tr>\n",
       "      <th>6</th>\n",
       "      <td>6</td>\n",
       "      <td>76.044138</td>\n",
       "      <td>76.0</td>\n",
       "      <td>55132</td>\n",
       "      <td>725</td>\n",
       "    </tr>\n",
       "    <tr>\n",
       "      <th>7</th>\n",
       "      <td>7</td>\n",
       "      <td>212.064649</td>\n",
       "      <td>208.0</td>\n",
       "      <td>154171</td>\n",
       "      <td>727</td>\n",
       "    </tr>\n",
       "    <tr>\n",
       "      <th>8</th>\n",
       "      <td>8</td>\n",
       "      <td>359.011004</td>\n",
       "      <td>385.0</td>\n",
       "      <td>261001</td>\n",
       "      <td>727</td>\n",
       "    </tr>\n",
       "    <tr>\n",
       "      <th>9</th>\n",
       "      <td>9</td>\n",
       "      <td>219.309491</td>\n",
       "      <td>216.0</td>\n",
       "      <td>159438</td>\n",
       "      <td>727</td>\n",
       "    </tr>\n",
       "    <tr>\n",
       "      <th>10</th>\n",
       "      <td>10</td>\n",
       "      <td>173.668501</td>\n",
       "      <td>147.0</td>\n",
       "      <td>126257</td>\n",
       "      <td>727</td>\n",
       "    </tr>\n",
       "    <tr>\n",
       "      <th>11</th>\n",
       "      <td>11</td>\n",
       "      <td>208.143054</td>\n",
       "      <td>180.0</td>\n",
       "      <td>151320</td>\n",
       "      <td>727</td>\n",
       "    </tr>\n",
       "    <tr>\n",
       "      <th>12</th>\n",
       "      <td>12</td>\n",
       "      <td>253.315934</td>\n",
       "      <td>229.0</td>\n",
       "      <td>184414</td>\n",
       "      <td>728</td>\n",
       "    </tr>\n",
       "    <tr>\n",
       "      <th>13</th>\n",
       "      <td>13</td>\n",
       "      <td>253.661180</td>\n",
       "      <td>224.0</td>\n",
       "      <td>184919</td>\n",
       "      <td>729</td>\n",
       "    </tr>\n",
       "    <tr>\n",
       "      <th>14</th>\n",
       "      <td>14</td>\n",
       "      <td>240.949246</td>\n",
       "      <td>212.0</td>\n",
       "      <td>175652</td>\n",
       "      <td>729</td>\n",
       "    </tr>\n",
       "    <tr>\n",
       "      <th>15</th>\n",
       "      <td>15</td>\n",
       "      <td>251.233196</td>\n",
       "      <td>227.0</td>\n",
       "      <td>183149</td>\n",
       "      <td>729</td>\n",
       "    </tr>\n",
       "    <tr>\n",
       "      <th>16</th>\n",
       "      <td>16</td>\n",
       "      <td>311.983562</td>\n",
       "      <td>304.5</td>\n",
       "      <td>227748</td>\n",
       "      <td>730</td>\n",
       "    </tr>\n",
       "    <tr>\n",
       "      <th>17</th>\n",
       "      <td>17</td>\n",
       "      <td>461.452055</td>\n",
       "      <td>475.0</td>\n",
       "      <td>336860</td>\n",
       "      <td>730</td>\n",
       "    </tr>\n",
       "    <tr>\n",
       "      <th>18</th>\n",
       "      <td>18</td>\n",
       "      <td>425.510989</td>\n",
       "      <td>418.5</td>\n",
       "      <td>309772</td>\n",
       "      <td>728</td>\n",
       "    </tr>\n",
       "    <tr>\n",
       "      <th>19</th>\n",
       "      <td>19</td>\n",
       "      <td>311.523352</td>\n",
       "      <td>309.5</td>\n",
       "      <td>226789</td>\n",
       "      <td>728</td>\n",
       "    </tr>\n",
       "    <tr>\n",
       "      <th>20</th>\n",
       "      <td>20</td>\n",
       "      <td>226.030220</td>\n",
       "      <td>223.5</td>\n",
       "      <td>164550</td>\n",
       "      <td>728</td>\n",
       "    </tr>\n",
       "    <tr>\n",
       "      <th>21</th>\n",
       "      <td>21</td>\n",
       "      <td>172.314560</td>\n",
       "      <td>173.5</td>\n",
       "      <td>125445</td>\n",
       "      <td>728</td>\n",
       "    </tr>\n",
       "    <tr>\n",
       "      <th>22</th>\n",
       "      <td>22</td>\n",
       "      <td>131.335165</td>\n",
       "      <td>129.0</td>\n",
       "      <td>95612</td>\n",
       "      <td>728</td>\n",
       "    </tr>\n",
       "    <tr>\n",
       "      <th>23</th>\n",
       "      <td>23</td>\n",
       "      <td>87.831044</td>\n",
       "      <td>80.0</td>\n",
       "      <td>63941</td>\n",
       "      <td>728</td>\n",
       "    </tr>\n",
       "  </tbody>\n",
       "</table>\n",
       "</div>"
      ],
      "text/plain": [
       "    hr         cnt                     \n",
       "              mean median     sum count\n",
       "0    0   53.898072   40.0   39130   726\n",
       "1    1   33.375691   20.0   24164   724\n",
       "2    2   22.869930   11.0   16352   715\n",
       "3    3   11.727403    6.0    8174   697\n",
       "4    4    6.352941    6.0    4428   697\n",
       "5    5   19.889819   19.0   14261   717\n",
       "6    6   76.044138   76.0   55132   725\n",
       "7    7  212.064649  208.0  154171   727\n",
       "8    8  359.011004  385.0  261001   727\n",
       "9    9  219.309491  216.0  159438   727\n",
       "10  10  173.668501  147.0  126257   727\n",
       "11  11  208.143054  180.0  151320   727\n",
       "12  12  253.315934  229.0  184414   728\n",
       "13  13  253.661180  224.0  184919   729\n",
       "14  14  240.949246  212.0  175652   729\n",
       "15  15  251.233196  227.0  183149   729\n",
       "16  16  311.983562  304.5  227748   730\n",
       "17  17  461.452055  475.0  336860   730\n",
       "18  18  425.510989  418.5  309772   728\n",
       "19  19  311.523352  309.5  226789   728\n",
       "20  20  226.030220  223.5  164550   728\n",
       "21  21  172.314560  173.5  125445   728\n",
       "22  22  131.335165  129.0   95612   728\n",
       "23  23   87.831044   80.0   63941   728"
      ]
     },
     "execution_count": 18,
     "metadata": {},
     "output_type": "execute_result"
    }
   ],
   "source": [
    "hourly_usage = df_hour.groupby(\"hr\").agg({'cnt': [\"mean\", \"median\", \"sum\", \"count\"]}).reset_index()\n",
    "\n",
    "# Menampilkan hasil eksplorasi\n",
    "hourly_usage"
   ]
  },
  {
   "cell_type": "markdown",
   "metadata": {
    "id": "th_Lzl2Fkj9O"
   },
   "source": [
    "**Insight:**\n",
    "- Jam sibuk (rush hour) memiliki jumlah penyewaan sepeda tertinggi. Biasanya terjadi pada:\n",
    "  - Pagi hari (sekitar pukul 07:00 - 09:00) → Masyarakat menggunakan sepeda untuk pergi bekerja atau sekolah.\n",
    "  - Sore hari (sekitar pukul 17:00 - 19:00) → Masyarakat pulang dari kerja atau sekolah.\n",
    "- Penyewaan sepeda paling rendah terjadi pada dini hari (00:00 - 05:00) karena sebagian besar orang sedang tidur dan aktivitas bersepeda minim.\n",
    "- Siang hingga sore hari (11:00 - 16:00) mungkin memiliki peningkatan penyewaan tetapi kemungkinan besar berasal dari wisatawan atau pengguna rekreasi, bukan pengguna komuter."
   ]
  },
  {
   "cell_type": "code",
   "execution_count": 19,
   "metadata": {
    "id": "e9CQCZjk8DC2"
   },
   "outputs": [
    {
     "data": {
      "text/html": [
       "<div>\n",
       "<style scoped>\n",
       "    .dataframe tbody tr th:only-of-type {\n",
       "        vertical-align: middle;\n",
       "    }\n",
       "\n",
       "    .dataframe tbody tr th {\n",
       "        vertical-align: top;\n",
       "    }\n",
       "\n",
       "    .dataframe thead th {\n",
       "        text-align: right;\n",
       "    }\n",
       "</style>\n",
       "<table border=\"1\" class=\"dataframe\">\n",
       "  <thead>\n",
       "    <tr style=\"text-align: right;\">\n",
       "      <th></th>\n",
       "      <th>dteday</th>\n",
       "      <th>cnt</th>\n",
       "      <th>cnt_diff</th>\n",
       "      <th>cnt_pct_change</th>\n",
       "    </tr>\n",
       "  </thead>\n",
       "  <tbody>\n",
       "    <tr>\n",
       "      <th>0</th>\n",
       "      <td>2011-01-01</td>\n",
       "      <td>985</td>\n",
       "      <td>NaN</td>\n",
       "      <td>NaN</td>\n",
       "    </tr>\n",
       "    <tr>\n",
       "      <th>1</th>\n",
       "      <td>2011-01-02</td>\n",
       "      <td>801</td>\n",
       "      <td>-184.0</td>\n",
       "      <td>-18.680203</td>\n",
       "    </tr>\n",
       "    <tr>\n",
       "      <th>2</th>\n",
       "      <td>2011-01-03</td>\n",
       "      <td>1349</td>\n",
       "      <td>548.0</td>\n",
       "      <td>68.414482</td>\n",
       "    </tr>\n",
       "    <tr>\n",
       "      <th>3</th>\n",
       "      <td>2011-01-04</td>\n",
       "      <td>1562</td>\n",
       "      <td>213.0</td>\n",
       "      <td>15.789474</td>\n",
       "    </tr>\n",
       "    <tr>\n",
       "      <th>4</th>\n",
       "      <td>2011-01-05</td>\n",
       "      <td>1600</td>\n",
       "      <td>38.0</td>\n",
       "      <td>2.432778</td>\n",
       "    </tr>\n",
       "  </tbody>\n",
       "</table>\n",
       "</div>"
      ],
      "text/plain": [
       "      dteday   cnt  cnt_diff  cnt_pct_change\n",
       "0 2011-01-01   985       NaN             NaN\n",
       "1 2011-01-02   801    -184.0      -18.680203\n",
       "2 2011-01-03  1349     548.0       68.414482\n",
       "3 2011-01-04  1562     213.0       15.789474\n",
       "4 2011-01-05  1600      38.0        2.432778"
      ]
     },
     "execution_count": 19,
     "metadata": {},
     "output_type": "execute_result"
    }
   ],
   "source": [
    "df_day[\"cnt_diff\"] = df_day[\"cnt\"].diff()\n",
    "\n",
    "# Menghitung persentase perubahan\n",
    "df_day[\"cnt_pct_change\"] = df_day[\"cnt\"].pct_change() * 100\n",
    "\n",
    "# Menampilkan 5 data pertama setelah penambahan kolom\n",
    "df_day[[\"dteday\", \"cnt\", \"cnt_diff\", \"cnt_pct_change\"]].head()"
   ]
  },
  {
   "cell_type": "code",
   "execution_count": 20,
   "metadata": {
    "id": "e9CQCZjk8DC2"
   },
   "outputs": [
    {
     "data": {
      "text/html": [
       "<div>\n",
       "<style scoped>\n",
       "    .dataframe tbody tr th:only-of-type {\n",
       "        vertical-align: middle;\n",
       "    }\n",
       "\n",
       "    .dataframe tbody tr th {\n",
       "        vertical-align: top;\n",
       "    }\n",
       "\n",
       "    .dataframe thead th {\n",
       "        text-align: right;\n",
       "    }\n",
       "</style>\n",
       "<table border=\"1\" class=\"dataframe\">\n",
       "  <thead>\n",
       "    <tr style=\"text-align: right;\">\n",
       "      <th></th>\n",
       "      <th>dteday</th>\n",
       "      <th>cnt</th>\n",
       "      <th>cnt_diff</th>\n",
       "      <th>cnt_pct_change</th>\n",
       "    </tr>\n",
       "  </thead>\n",
       "  <tbody>\n",
       "    <tr>\n",
       "      <th>668</th>\n",
       "      <td>2012-10-30</td>\n",
       "      <td>1096</td>\n",
       "      <td>1074.0</td>\n",
       "      <td>4881.818182</td>\n",
       "    </tr>\n",
       "    <tr>\n",
       "      <th>302</th>\n",
       "      <td>2011-10-30</td>\n",
       "      <td>3331</td>\n",
       "      <td>2704.0</td>\n",
       "      <td>431.259968</td>\n",
       "    </tr>\n",
       "    <tr>\n",
       "      <th>669</th>\n",
       "      <td>2012-10-31</td>\n",
       "      <td>5566</td>\n",
       "      <td>4470.0</td>\n",
       "      <td>407.846715</td>\n",
       "    </tr>\n",
       "    <tr>\n",
       "      <th>726</th>\n",
       "      <td>2012-12-27</td>\n",
       "      <td>2114</td>\n",
       "      <td>1673.0</td>\n",
       "      <td>379.365079</td>\n",
       "    </tr>\n",
       "    <tr>\n",
       "      <th>341</th>\n",
       "      <td>2011-12-08</td>\n",
       "      <td>3322</td>\n",
       "      <td>2617.0</td>\n",
       "      <td>371.205674</td>\n",
       "    </tr>\n",
       "  </tbody>\n",
       "</table>\n",
       "</div>"
      ],
      "text/plain": [
       "        dteday   cnt  cnt_diff  cnt_pct_change\n",
       "668 2012-10-30  1096    1074.0     4881.818182\n",
       "302 2011-10-30  3331    2704.0      431.259968\n",
       "669 2012-10-31  5566    4470.0      407.846715\n",
       "726 2012-12-27  2114    1673.0      379.365079\n",
       "341 2011-12-08  3322    2617.0      371.205674"
      ]
     },
     "execution_count": 20,
     "metadata": {},
     "output_type": "execute_result"
    }
   ],
   "source": [
    "lonjakan_terbesar = df_day.sort_values(by=\"cnt_pct_change\", ascending=False)\n",
    "\n",
    "# Menampilkan hasil\n",
    "lonjakan_terbesar[[\"dteday\", \"cnt\", \"cnt_diff\", \"cnt_pct_change\"]].head()"
   ]
  },
  {
   "cell_type": "code",
   "execution_count": 21,
   "metadata": {
    "id": "e9CQCZjk8DC2"
   },
   "outputs": [
    {
     "data": {
      "text/html": [
       "<div>\n",
       "<style scoped>\n",
       "    .dataframe tbody tr th:only-of-type {\n",
       "        vertical-align: middle;\n",
       "    }\n",
       "\n",
       "    .dataframe tbody tr th {\n",
       "        vertical-align: top;\n",
       "    }\n",
       "\n",
       "    .dataframe thead th {\n",
       "        text-align: right;\n",
       "    }\n",
       "</style>\n",
       "<table border=\"1\" class=\"dataframe\">\n",
       "  <thead>\n",
       "    <tr style=\"text-align: right;\">\n",
       "      <th></th>\n",
       "      <th>dteday</th>\n",
       "      <th>cnt</th>\n",
       "      <th>cnt_diff</th>\n",
       "      <th>cnt_pct_change</th>\n",
       "    </tr>\n",
       "  </thead>\n",
       "  <tbody>\n",
       "    <tr>\n",
       "      <th>730</th>\n",
       "      <td>2012-12-31</td>\n",
       "      <td>2729</td>\n",
       "      <td>933.0</td>\n",
       "      <td>51.948775</td>\n",
       "    </tr>\n",
       "    <tr>\n",
       "      <th>729</th>\n",
       "      <td>2012-12-30</td>\n",
       "      <td>1796</td>\n",
       "      <td>455.0</td>\n",
       "      <td>33.929903</td>\n",
       "    </tr>\n",
       "    <tr>\n",
       "      <th>727</th>\n",
       "      <td>2012-12-28</td>\n",
       "      <td>3095</td>\n",
       "      <td>981.0</td>\n",
       "      <td>46.404920</td>\n",
       "    </tr>\n",
       "    <tr>\n",
       "      <th>726</th>\n",
       "      <td>2012-12-27</td>\n",
       "      <td>2114</td>\n",
       "      <td>1673.0</td>\n",
       "      <td>379.365079</td>\n",
       "    </tr>\n",
       "    <tr>\n",
       "      <th>709</th>\n",
       "      <td>2012-12-10</td>\n",
       "      <td>5170</td>\n",
       "      <td>1942.0</td>\n",
       "      <td>60.161090</td>\n",
       "    </tr>\n",
       "  </tbody>\n",
       "</table>\n",
       "</div>"
      ],
      "text/plain": [
       "        dteday   cnt  cnt_diff  cnt_pct_change\n",
       "730 2012-12-31  2729     933.0       51.948775\n",
       "729 2012-12-30  1796     455.0       33.929903\n",
       "727 2012-12-28  3095     981.0       46.404920\n",
       "726 2012-12-27  2114    1673.0      379.365079\n",
       "709 2012-12-10  5170    1942.0       60.161090"
      ]
     },
     "execution_count": 21,
     "metadata": {},
     "output_type": "execute_result"
    }
   ],
   "source": [
    "threshold = 30\n",
    "\n",
    "# Menemukan tanggal terakhir dengan lonjakan signifikan\n",
    "lonjakan_terakhir = df_day[df_day[\"cnt_pct_change\"] > threshold].sort_values(by=\"dteday\", ascending=False)\n",
    "\n",
    "# Menampilkan hasil\n",
    "lonjakan_terakhir[[\"dteday\", \"cnt\", \"cnt_diff\", \"cnt_pct_change\"]].head()"
   ]
  },
  {
   "cell_type": "markdown",
   "metadata": {
    "id": "th_Lzl2Fkj9O"
   },
   "source": [
    "**Insight:**\n",
    "- Lonjakan terbesar terjadi pada 2012-10-30, dengan peningkatan sebesar 4881% dibandingkan hari sebelumnya.\n",
    "- Lonjakan signifikan terakhir (di atas 30%) terjadi pada 2012-12-31, dengan kenaikan 51%.\n",
    "- Lonjakan ini bisa disebabkan oleh faktor seperti perubahan cuaca, akhir pekan, atau hari libur tertentu yang meningkatkan permintaan sepeda."
   ]
  },
  {
   "cell_type": "code",
   "execution_count": 22,
   "metadata": {
    "id": "e9CQCZjk8DC2"
   },
   "outputs": [
    {
     "data": {
      "text/html": [
       "<div>\n",
       "<style scoped>\n",
       "    .dataframe tbody tr th:only-of-type {\n",
       "        vertical-align: middle;\n",
       "    }\n",
       "\n",
       "    .dataframe tbody tr th {\n",
       "        vertical-align: top;\n",
       "    }\n",
       "\n",
       "    .dataframe thead tr th {\n",
       "        text-align: left;\n",
       "    }\n",
       "</style>\n",
       "<table border=\"1\" class=\"dataframe\">\n",
       "  <thead>\n",
       "    <tr>\n",
       "      <th></th>\n",
       "      <th>year_month</th>\n",
       "      <th>cnt</th>\n",
       "    </tr>\n",
       "    <tr>\n",
       "      <th></th>\n",
       "      <th></th>\n",
       "      <th>sum</th>\n",
       "    </tr>\n",
       "  </thead>\n",
       "  <tbody>\n",
       "    <tr>\n",
       "      <th>18</th>\n",
       "      <td>2012-07</td>\n",
       "      <td>203607</td>\n",
       "    </tr>\n",
       "    <tr>\n",
       "      <th>19</th>\n",
       "      <td>2012-08</td>\n",
       "      <td>214503</td>\n",
       "    </tr>\n",
       "    <tr>\n",
       "      <th>20</th>\n",
       "      <td>2012-09</td>\n",
       "      <td>218573</td>\n",
       "    </tr>\n",
       "    <tr>\n",
       "      <th>21</th>\n",
       "      <td>2012-10</td>\n",
       "      <td>198841</td>\n",
       "    </tr>\n",
       "    <tr>\n",
       "      <th>22</th>\n",
       "      <td>2012-11</td>\n",
       "      <td>152664</td>\n",
       "    </tr>\n",
       "    <tr>\n",
       "      <th>23</th>\n",
       "      <td>2012-12</td>\n",
       "      <td>123713</td>\n",
       "    </tr>\n",
       "  </tbody>\n",
       "</table>\n",
       "</div>"
      ],
      "text/plain": [
       "   year_month     cnt\n",
       "                  sum\n",
       "18    2012-07  203607\n",
       "19    2012-08  214503\n",
       "20    2012-09  218573\n",
       "21    2012-10  198841\n",
       "22    2012-11  152664\n",
       "23    2012-12  123713"
      ]
     },
     "execution_count": 22,
     "metadata": {},
     "output_type": "execute_result"
    }
   ],
   "source": [
    "df_day[\"year_month\"] = df_day[\"dteday\"].dt.to_period(\"M\")\n",
    "\n",
    "# Menghitung jumlah penyewaan sepeda per bulan\n",
    "monthly_rentals = df_day.groupby(\"year_month\").agg({'cnt': ['sum']}).reset_index()\n",
    "\n",
    "# Menampilkan 6 bulan terakhir\n",
    "monthly_rentals.tail(6)"
   ]
  },
  {
   "cell_type": "code",
   "execution_count": 23,
   "metadata": {
    "id": "e9CQCZjk8DC2"
   },
   "outputs": [
    {
     "name": "stdout",
     "output_type": "stream",
     "text": [
      "Rata-rata penyewaan sepeda per hari dalam 6 bulan terakhir adalah 6041.016216216216\n"
     ]
    }
   ],
   "source": [
    "recent_6_months = df_day[df_day[\"dteday\"] >= (df_day[\"dteday\"].max() - pd.DateOffset(months=6))]\n",
    "\n",
    "# Menghitung rata-rata penyewaan sepeda per hari dalam 6 bulan terakhir\n",
    "daily_avg_rentals = recent_6_months[\"cnt\"].mean()\n",
    "print(f\"Rata-rata penyewaan sepeda per hari dalam 6 bulan terakhir adalah {daily_avg_rentals}\")"
   ]
  },
  {
   "cell_type": "code",
   "execution_count": 24,
   "metadata": {
    "id": "e9CQCZjk8DC2"
   },
   "outputs": [
    {
     "name": "stdout",
     "output_type": "stream",
     "text": [
      "Jumlah hari dengan penyewaan di atas threshold adalah 92 hari\n"
     ]
    }
   ],
   "source": [
    "rental_threshold = recent_6_months[\"cnt\"].median()\n",
    "\n",
    "# Menghitung jumlah hari dengan penyewaan di atas threshold\n",
    "high_rental_days = (recent_6_months[\"cnt\"] > rental_threshold).sum()\n",
    "print(f\"Jumlah hari dengan penyewaan di atas threshold adalah {high_rental_days} hari\")"
   ]
  },
  {
   "cell_type": "markdown",
   "metadata": {
    "id": "th_Lzl2Fkj9O"
   },
   "source": [
    "**Insight:**\n",
    "- Total Penyewaan Sepeda per Bulan meningkat pada bulan Juli - September dan menurun pada bulan Oktober - Desember.\n",
    "- Rata-rata Penyewaan Harian adalah 6041 sepeda per hari.\n",
    "- Jumlah Hari dengan Penyewaan Tinggi dalam 6 bulan terakhir adalah 92 hari."
   ]
  },
  {
   "cell_type": "code",
   "execution_count": 25,
   "metadata": {
    "id": "e9CQCZjk8DC2"
   },
   "outputs": [
    {
     "data": {
      "text/html": [
       "<div>\n",
       "<style scoped>\n",
       "    .dataframe tbody tr th:only-of-type {\n",
       "        vertical-align: middle;\n",
       "    }\n",
       "\n",
       "    .dataframe tbody tr th {\n",
       "        vertical-align: top;\n",
       "    }\n",
       "\n",
       "    .dataframe thead tr th {\n",
       "        text-align: left;\n",
       "    }\n",
       "</style>\n",
       "<table border=\"1\" class=\"dataframe\">\n",
       "  <thead>\n",
       "    <tr>\n",
       "      <th></th>\n",
       "      <th>yr</th>\n",
       "      <th>mnth</th>\n",
       "      <th colspan=\"2\" halign=\"left\">casual</th>\n",
       "      <th colspan=\"2\" halign=\"left\">registered</th>\n",
       "      <th>cnt</th>\n",
       "    </tr>\n",
       "    <tr>\n",
       "      <th></th>\n",
       "      <th></th>\n",
       "      <th></th>\n",
       "      <th>sum</th>\n",
       "      <th>mean</th>\n",
       "      <th>sum</th>\n",
       "      <th>mean</th>\n",
       "      <th>sum</th>\n",
       "    </tr>\n",
       "  </thead>\n",
       "  <tbody>\n",
       "    <tr>\n",
       "      <th>18</th>\n",
       "      <td>1</td>\n",
       "      <td>7</td>\n",
       "      <td>41705</td>\n",
       "      <td>1345.322581</td>\n",
       "      <td>161902</td>\n",
       "      <td>5222.645161</td>\n",
       "      <td>203607</td>\n",
       "    </tr>\n",
       "    <tr>\n",
       "      <th>19</th>\n",
       "      <td>1</td>\n",
       "      <td>8</td>\n",
       "      <td>43197</td>\n",
       "      <td>1393.451613</td>\n",
       "      <td>171306</td>\n",
       "      <td>5526.000000</td>\n",
       "      <td>214503</td>\n",
       "    </tr>\n",
       "    <tr>\n",
       "      <th>20</th>\n",
       "      <td>1</td>\n",
       "      <td>9</td>\n",
       "      <td>43778</td>\n",
       "      <td>1459.266667</td>\n",
       "      <td>174795</td>\n",
       "      <td>5826.500000</td>\n",
       "      <td>218573</td>\n",
       "    </tr>\n",
       "    <tr>\n",
       "      <th>21</th>\n",
       "      <td>1</td>\n",
       "      <td>10</td>\n",
       "      <td>34538</td>\n",
       "      <td>1114.129032</td>\n",
       "      <td>164303</td>\n",
       "      <td>5300.096774</td>\n",
       "      <td>198841</td>\n",
       "    </tr>\n",
       "    <tr>\n",
       "      <th>22</th>\n",
       "      <td>1</td>\n",
       "      <td>11</td>\n",
       "      <td>21009</td>\n",
       "      <td>700.300000</td>\n",
       "      <td>131655</td>\n",
       "      <td>4388.500000</td>\n",
       "      <td>152664</td>\n",
       "    </tr>\n",
       "    <tr>\n",
       "      <th>23</th>\n",
       "      <td>1</td>\n",
       "      <td>12</td>\n",
       "      <td>13245</td>\n",
       "      <td>427.258065</td>\n",
       "      <td>110468</td>\n",
       "      <td>3563.483871</td>\n",
       "      <td>123713</td>\n",
       "    </tr>\n",
       "  </tbody>\n",
       "</table>\n",
       "</div>"
      ],
      "text/plain": [
       "   yr mnth casual              registered                  cnt\n",
       "              sum         mean        sum         mean     sum\n",
       "18  1    7  41705  1345.322581     161902  5222.645161  203607\n",
       "19  1    8  43197  1393.451613     171306  5526.000000  214503\n",
       "20  1    9  43778  1459.266667     174795  5826.500000  218573\n",
       "21  1   10  34538  1114.129032     164303  5300.096774  198841\n",
       "22  1   11  21009   700.300000     131655  4388.500000  152664\n",
       "23  1   12  13245   427.258065     110468  3563.483871  123713"
      ]
     },
     "execution_count": 25,
     "metadata": {},
     "output_type": "execute_result"
    }
   ],
   "source": [
    "monthly_usage = df_day.groupby([\"yr\", \"mnth\"]).agg({\"casual\": ['sum', 'mean'], \"registered\": ['sum', 'mean'], \"cnt\": ['sum']}).reset_index()\n",
    "\n",
    "# Menampilkan 6 bulan terakhir\n",
    "monthly_usage.tail(6)"
   ]
  },
  {
   "cell_type": "markdown",
   "metadata": {
    "id": "th_Lzl2Fkj9O"
   },
   "source": [
    "**Insight:**\n",
    "- Total Penyewaan Sepeda per Bulan meningkat pada bulan Juli - September dan menurun pada bulan Oktober - Desember.\n",
    "- Rata-rata Penyewaan Harian adalah 6041 sepeda per hari.\n",
    "- Jumlah Hari dengan Penyewaan Tinggi dalam 6 bulan terakhir adalah 92 hari."
   ]
  },
  {
   "cell_type": "markdown",
   "metadata": {
    "id": "zsyZjqak8DC2"
   },
   "source": [
    "## Visualization & Explanatory Analysis"
   ]
  },
  {
   "cell_type": "markdown",
   "metadata": {
    "id": "HZxOiQ6n8DC2"
   },
   "source": [
    "### Bagaimana pola penggunaan sepeda berdasarkan musim?"
   ]
  },
  {
   "cell_type": "code",
   "execution_count": 26,
   "metadata": {
    "id": "1swJUdAD8DC2"
   },
   "outputs": [
    {
     "data": {
      "image/png": "[encoded data removed]",
      "text/plain": [
       "<Figure size 800x500 with 1 Axes>"
      ]
     },
     "metadata": {},
     "output_type": "display_data"
    }
   ],
   "source": [
    "seasonal_usage = df_day.groupby(\"season\")[\"cnt\"].mean().reset_index()\n",
    "\n",
    "# Mapping label musim sesuai dataset\n",
    "season_labels = {1: \"Spring\", 2: \"Summer\", 3: \"Fall\", 4: \"Winter\"}\n",
    "seasonal_usage[\"season\"] = seasonal_usage[\"season\"].map(season_labels)\n",
    "\n",
    "colors = [\"#D3D3D3\", \"#D3D3D3\", \"#72BCD4\", \"#D3D3D3\"]\n",
    "\n",
    "# Membuat visualisasi\n",
    "plt.figure(figsize=(8, 5))\n",
    "sns.barplot(data=seasonal_usage, x=\"season\", y=\"cnt\", hue=\"season\", palette=colors)\n",
    "\n",
    "# Menambahkan judul dan label\n",
    "plt.title(\"Rata-rata Penyewaan Sepeda Berdasarkan Musim\", fontsize=14)\n",
    "plt.ylabel(None)\n",
    "plt.xlabel(None)\n",
    "plt.grid(axis=\"y\", linestyle=\"--\", alpha=0.7)\n",
    "\n",
    "# Menampilkan plot\n",
    "plt.show()"
   ]
  },
  {
   "cell_type": "markdown",
   "metadata": {
    "id": "_0-36BDLklRg"
   },
   "source": [
    "**Insight:**\n",
    "- Penyewaan sepeda tertinggi terjadi pada musim gugur (Fall), dengan rata-rata sekitar 5644 penyewaan per hari.\n",
    "- Penyewaan sepeda terendah terjadi pada musim semi (Spring), dengan rata-rata sekitar 2604 penyewaan per hari."
   ]
  },
  {
   "cell_type": "markdown",
   "metadata": {
    "id": "DgHI7CiU8DC2"
   },
   "source": [
    "### Seberapa besar pengaruh cuaca terhadap jumlah penyewaan sepeda?"
   ]
  },
  {
   "cell_type": "code",
   "execution_count": 27,
   "metadata": {
    "id": "Go0lCsvO8DC2"
   },
   "outputs": [
    {
     "data": {
      "image/png": "[encoded data removed]",
      "text/plain": [
       "<Figure size 800x500 with 1 Axes>"
      ]
     },
     "metadata": {},
     "output_type": "display_data"
    }
   ],
   "source": [
    "weather_usage = df_day.groupby(\"weathersit\")[\"cnt\"].mean().reset_index()\n",
    "\n",
    "# Mapping label cuaca sesuai dataset\n",
    "weather_labels = {\n",
    "    1: \"Clear/Few Clouds\",\n",
    "    2: \"Mist/Cloudy\",\n",
    "    3: \"Light Snow/Rain\",\n",
    "    4: \"Heavy Rain/Snow\"\n",
    "}\n",
    "weather_usage[\"weathersit\"] = weather_usage[\"weathersit\"].map(weather_labels)\n",
    "\n",
    "colors = [\"#72BCD4\", \"#D3D3D3\", \"#D3D3D3\"]\n",
    "\n",
    "# Membuat visualisasi\n",
    "plt.figure(figsize=(8, 5))\n",
    "sns.barplot(data=weather_usage, x=\"weathersit\", y=\"cnt\", hue=\"weathersit\", palette=colors)\n",
    "\n",
    "# Menambahkan judul dan label\n",
    "plt.title(\"Rata-rata Penyewaan Sepeda Berdasarkan Kondisi Cuaca\", fontsize=14)\n",
    "plt.ylabel(None)\n",
    "plt.xlabel(None)\n",
    "plt.grid(axis=\"y\", linestyle=\"--\", alpha=0.7)\n",
    "\n",
    "# Menampilkan plot\n",
    "plt.show()"
   ]
  },
  {
   "cell_type": "markdown",
   "metadata": {
    "id": "_0-36BDLklRg"
   },
   "source": [
    "**Insight:**\n",
    "- Cuaca yang paling mendukung penyewaan sepeda adalah Clear/Few Clouds, dengan rata-rata sekitar 4876 penyewaan per hari.\n",
    "- Saat cuaca memburuk (misalnya Light Snow/Rain), penyewaan menurun drastis hingga 1803 per hari."
   ]
  },
  {
   "cell_type": "markdown",
   "metadata": {
    "id": "DgHI7CiU8DC2"
   },
   "source": [
    "### Pada jam berapa penyewaan sepeda paling tinggi dan paling rendah dalam sehari?"
   ]
  },
  {
   "cell_type": "code",
   "execution_count": 28,
   "metadata": {
    "id": "Go0lCsvO8DC2"
   },
   "outputs": [
    {
     "data": {
      "image/png": "[encoded data removed]",
      "text/plain": [
       "<Figure size 1000x500 with 1 Axes>"
      ]
     },
     "metadata": {},
     "output_type": "display_data"
    }
   ],
   "source": [
    "hourly_usage = df_hour.groupby(\"hr\")[\"cnt\"].mean().reset_index()\n",
    "\n",
    "# Membuat visualisasi\n",
    "plt.figure(figsize=(10, 5))\n",
    "sns.lineplot(data=hourly_usage, x=\"hr\", y=\"cnt\", marker=\"o\", linestyle=\"-\", color=\"royalblue\")\n",
    "\n",
    "# Menambahkan titik puncak dan titik terendah\n",
    "max_hour = hourly_usage.loc[hourly_usage[\"cnt\"].idxmax()]\n",
    "min_hour = hourly_usage.loc[hourly_usage[\"cnt\"].idxmin()]\n",
    "plt.scatter(max_hour[\"hr\"], max_hour[\"cnt\"], color=\"green\", s=100, label=f\"Puncak: {int(max_hour['hr'])}:00\")\n",
    "plt.scatter(min_hour[\"hr\"], min_hour[\"cnt\"], color=\"red\", s=100, label=f\"Terendah: {int(min_hour['hr'])}:00\")\n",
    "\n",
    "# Menambahkan judul dan label\n",
    "plt.title(\"Rata-rata Penyewaan Sepeda pada Setiap Jam dalam Sehari\", fontsize=14)\n",
    "plt.xlabel(None)\n",
    "plt.ylabel(None)\n",
    "plt.xticks(range(0, 24))\n",
    "plt.legend()\n",
    "plt.grid(axis=\"y\", linestyle=\"--\", alpha=0.7)\n",
    "\n",
    "# Menampilkan plot\n",
    "plt.show()"
   ]
  },
  {
   "cell_type": "markdown",
   "metadata": {
    "id": "_0-36BDLklRg"
   },
   "source": [
    "**Insight:**\n",
    "- Jam dengan jumlah penyewaan tertinggi adalah sekitar pukul 17:00, dengan rata-rata sekitar 461 penyewaan per jam.\n",
    "- Sebaliknya, jumlah penyewaan paling rendah terjadi pada pukul 4:00, hanya sekitar 6 penyewaan per jam."
   ]
  },
  {
   "cell_type": "markdown",
   "metadata": {
    "id": "_WeHlCeX8DC2"
   },
   "source": [
    "## Conclusion"
   ]
  },
  {
   "cell_type": "markdown",
   "metadata": {
    "id": "ZTcyR48Y8DC2"
   },
   "source": [
    "### Conclusion pertanyaan \"Bagaimana pola penggunaan sepeda berdasarkan musim?\"\n",
    "- Musim gugur (fall) memiliki jumlah penyewaan sepeda tertinggi, dengan rata-rata 5.644 penyewaan per hari. Cuaca yang nyaman dan kondisi lingkungan yang mendukung kemungkinan besar menjadi faktor utama tingginya penggunaan sepeda di musim ini.\n",
    "\n",
    "- Musim semi (spring) memiliki jumlah penyewaan sepeda terendah, dengan rata-rata 2.604 penyewaan per hari. Faktor seperti curah hujan yang lebih tinggi atau transisi dari musim dingin mungkin menyebabkan lebih sedikit orang menggunakan sepeda selama musim ini.\n",
    "\n",
    "- Musim panas (summer) dan musim dingin (winter) memiliki jumlah penyewaan yang cukup tinggi, masing-masing dengan rata-rata 4.992 dan 4.728 penyewaan per hari. Musim panas cenderung mendukung aktivitas luar ruangan, sementara musim dingin mungkin memiliki penyewaan tinggi karena adanya pengguna reguler yang tetap menggunakan layanan meskipun cuaca lebih dingin.\n",
    "\n",
    "- **Kesimpulan utama**: Pola penggunaan sepeda sangat dipengaruhi oleh musim. Dengan mengetahui bahwa musim semi memiliki jumlah penyewaan terendah, penyedia layanan bike-sharing dapat menerapkan strategi promosi atau program insentif untuk meningkatkan penggunaan sepeda pada musim tersebut. 😊\n",
    "\n",
    "### Conclusion pertanyaan \"Seberapa besar pengaruh cuaca terhadap jumlah penyewaan sepeda?\"\n",
    "- Cuaca yang lebih cerah dan berawan ringan (kategori 1: Clear, Few clouds, Partly cloudy) memiliki jumlah penyewaan tertinggi.\n",
    "Pengguna lebih cenderung menyewa sepeda saat kondisi cuaca mendukung, dengan rata-rata jumlah penyewaan yang lebih tinggi dibandingkan kondisi cuaca lainnya.\n",
    "\n",
    "- Ketika cuaca berkabut atau hujan ringan (kategori 2: Mist + Cloudy, Mist + Broken clouds, Mist + Few clouds, Mist), jumlah penyewaan sepeda mengalami penurunan.\n",
    "Meskipun masih ada penyewaan, jumlahnya lebih sedikit dibandingkan saat cuaca cerah. Ini menunjukkan bahwa faktor visibilitas dan kenyamanan bersepeda mulai memengaruhi keputusan pengguna.\n",
    "\n",
    "- Saat terjadi hujan deras atau salju (kategori 3: Light Snow, Light Rain + Thunderstorm + Scattered clouds, Light Rain + Scattered clouds), jumlah penyewaan sepeda turun drastis.\n",
    "Kondisi ini menjadi penghalang besar bagi pengguna, menyebabkan jumlah penyewaan menjadi yang paling rendah.\n",
    "\n",
    "- Dan ketika cuaca hujan deras atau hujan es (kategori 4: Heavy Rain + Ice Pallets + Thunderstorm + Mist, Snow + Fog), jumlah penyewaan sepeda tidak ada sama sekali\n",
    "\n",
    "- **Kesimpulan utama**: Cuaca memiliki dampak signifikan terhadap jumlah penyewaan sepeda. Semakin buruk cuaca, semakin rendah jumlah penyewaan sepeda. Oleh karena itu, penyedia layanan bike-sharing dapat mempertimbangkan strategi seperti diskon atau promosi pada hari-hari dengan cuaca kurang optimal untuk tetap menarik pelanggan.\n",
    "\n",
    "### Conclusion pertanyaan \"Pada jam berapa penyewaan sepeda paling tinggi dan paling rendah dalam sehari?\"\n",
    "- Penyewaan sepeda paling tinggi terjadi pada jam 17:00 - 18:00.\n",
    "Ini menunjukkan bahwa banyak pengguna menggunakan sepeda sebagai moda transportasi utama saat pulang kerja atau sekolah. Lonjakan ini bisa dikaitkan dengan pola perjalanan pekerja dan pelajar yang pulang pada sore hari.\n",
    "\n",
    "- Penyewaan sepeda juga meningkat pada pagi hari sekitar pukul 07:00 - 08:00.\n",
    "Hal ini mengindikasikan bahwa banyak orang menggunakan layanan bike-sharing untuk pergi bekerja atau sekolah, terutama di jam sibuk pagi.\n",
    "\n",
    "- Penyewaan sepeda paling rendah terjadi pada dini hari sekitar pukul 00:00 - 05:00.\n",
    "Ini masuk akal karena pada jam-jam tersebut aktivitas kota cenderung sepi, dan sedikit orang yang bersepeda di waktu tersebut.\n",
    "\n",
    "- **Kesimpulan utama**: Pola penyewaan sepeda mengikuti ritme aktivitas harian masyarakat, dengan lonjakan utama terjadi pada jam sibuk pagi dan sore. Layanan bike-sharing dapat meningkatkan stok sepeda dan pemeliharaan pada jam-jam tersebut untuk mengakomodasi lonjakan permintaan."
   ]
  }
 ],
 "metadata": {
  "colab": {
   "provenance": []
  },
  "kernelspec": {
   "display_name": "Python 3 (ipykernel)",
   "language": "python",
   "name": "python3"
  },
  "language_info": {
   "codemirror_mode": {
    "name": "ipython",
    "version": 3
   },
   "file_extension": ".py",
   "mimetype": "text/x-python",
   "name": "python",
   "nbconvert_exporter": "python",
   "pygments_lexer": "ipython3",
   "version": "3.12.3"
  },
  "vscode": {
   "interpreter": {
    "hash": "972b3bf27e332e87b5379f2791f6ef9dfc79c71018c370b0d7423235e20fe4d7"
   }
  }
 },
 "nbformat": 4,
 "nbformat_minor": 4
}
